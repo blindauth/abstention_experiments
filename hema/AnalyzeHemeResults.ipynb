{
  "nbformat": 4,
  "nbformat_minor": 0,
  "metadata": {
    "colab": {
      "name": "AnalyzeHemeResults.ipynb",
      "version": "0.3.2",
      "provenance": [],
      "collapsed_sections": [],
      "include_colab_link": true
    },
    "kernelspec": {
      "name": "python3",
      "display_name": "Python 3"
    }
  },
  "cells": [
    {
      "cell_type": "markdown",
      "metadata": {
        "id": "view-in-github",
        "colab_type": "text"
      },
      "source": [
        "<a href=\"https://colab.research.google.com/github/blindauth/abstention_experiments/blob/master/hema/AnalyzeHemeResults.ipynb\" target=\"_parent\"><img src=\"https://colab.research.google.com/assets/colab-badge.svg\" alt=\"Open In Colab\"/></a>"
      ]
    },
    {
      "cell_type": "code",
      "metadata": {
        "id": "0PP_1glqtoye",
        "colab_type": "code",
        "outputId": "650f7d49-126d-4454-e591-7e71dce13658",
        "colab": {
          "base_uri": "https://localhost:8080/",
          "height": 462
        }
      },
      "source": [
        "!rm -r abstention\n",
        "!pip uninstall abstention\n",
        "!git clone https://github.com/blindauth/abstention.git\n",
        "!pip install abstention/\n",
        "![[ -e abstention_experiments ]] || git clone https://github.com/blindauth/abstention_experiments.git"
      ],
      "execution_count": 1,
      "outputs": [
        {
          "output_type": "stream",
          "text": [
            "rm: cannot remove 'abstention': No such file or directory\n",
            "\u001b[33mWARNING: Skipping abstention as it is not installed.\u001b[0m\n",
            "Cloning into 'abstention'...\n",
            "remote: Enumerating objects: 51, done.\u001b[K\n",
            "remote: Counting objects: 100% (51/51), done.\u001b[K\n",
            "remote: Compressing objects: 100% (38/38), done.\u001b[K\n",
            "remote: Total 51 (delta 18), reused 42 (delta 9), pack-reused 0\u001b[K\n",
            "Unpacking objects: 100% (51/51), done.\n",
            "Processing ./abstention\n",
            "Requirement already satisfied: numpy>=1.9 in /usr/local/lib/python3.6/dist-packages (from abstention==0.1.2.1) (1.16.3)\n",
            "Requirement already satisfied: scikit-learn>=0.20.0 in /usr/local/lib/python3.6/dist-packages (from abstention==0.1.2.1) (0.20.3)\n",
            "Requirement already satisfied: scipy>=1.1.0 in /usr/local/lib/python3.6/dist-packages (from abstention==0.1.2.1) (1.2.1)\n",
            "Building wheels for collected packages: abstention\n",
            "  Building wheel for abstention (setup.py) ... \u001b[?25l\u001b[?25hdone\n",
            "  Stored in directory: /tmp/pip-ephem-wheel-cache-bduzkq6s/wheels/60/8e/d2/9e9ca02e7b5f76bfda2e2daa6dcbe42c19095c502ccb653729\n",
            "Successfully built abstention\n",
            "Installing collected packages: abstention\n",
            "Successfully installed abstention-0.1.2.1\n",
            "Cloning into 'abstention_experiments'...\n",
            "remote: Enumerating objects: 21, done.\u001b[K\n",
            "remote: Counting objects: 100% (21/21), done.\u001b[K\n",
            "remote: Compressing objects: 100% (20/20), done.\u001b[K\n",
            "remote: Total 1894 (delta 4), reused 5 (delta 0), pack-reused 1873\u001b[K\n",
            "Receiving objects: 100% (1894/1894), 173.29 MiB | 33.97 MiB/s, done.\n",
            "Resolving deltas: 100% (9/9), done.\n"
          ],
          "name": "stdout"
        }
      ]
    },
    {
      "cell_type": "code",
      "metadata": {
        "id": "MpfPWee3yyxj",
        "colab_type": "code",
        "outputId": "569a1dd6-30c6-4fd9-9ea3-3e1fc0042ecd",
        "colab": {
          "base_uri": "https://localhost:8080/",
          "height": 153
        }
      },
      "source": [
        "!ls abstention_experiments/hema"
      ],
      "execution_count": 3,
      "outputs": [
        {
          "output_type": "stream",
          "text": [
            "heme_task0_abstention_results.json.gz  record_30_model_vo6bz_preds\n",
            "heme_task1_abstention_results.json.gz  record_3_model_e0JNc_preds\n",
            "record_12_model_bo6Z3_preds\t       record_6_model_T8zn7_preds\n",
            "record_15_model_Bscof_preds\t       record_9_model_8pkw7_preds\n",
            "record_18_model_xZ1BL_preds\t       Run_Heme_Experiments.ipynb\n",
            "record_21_model_ovIXJ_preds\t       test_labels.txt.gz\n",
            "record_24_model_7n9bs_preds\t       valid_labels.txt.gz\n",
            "record_27_model_3QpKH_preds\n"
          ],
          "name": "stdout"
        }
      ]
    },
    {
      "cell_type": "code",
      "metadata": {
        "id": "8Qtgbb96kOv2",
        "colab_type": "code",
        "colab": {}
      },
      "source": [
        "import gzip\n",
        "import json\n",
        "\n",
        "task0_abstention_results =\\\n",
        "  json.loads(gzip.open(\n",
        "    \"abstention_experiments/hema/heme_task0_abstention_results.json.gz\").read())\n",
        "task1_abstention_results =\\\n",
        "  json.loads(gzip.open(\n",
        "    \"abstention_experiments/hema/heme_task1_abstention_results.json.gz\").read())"
      ],
      "execution_count": 0,
      "outputs": []
    },
    {
      "cell_type": "code",
      "metadata": {
        "id": "L8HioWYIW81T",
        "colab_type": "code",
        "colab": {
          "base_uri": "https://localhost:8080/",
          "height": 34
        },
        "outputId": "49adb3ea-b1da-49be-b448-cba23b700840"
      },
      "source": [
        "task0_abstention_results.keys()"
      ],
      "execution_count": 7,
      "outputs": [
        {
          "output_type": "execute_result",
          "data": {
            "text/plain": [
              "dict_keys(['metricname_to_abstfrac_to_abstncalib_to_perf', 'metricname_to_baselineperfs'])"
            ]
          },
          "metadata": {
            "tags": []
          },
          "execution_count": 7
        }
      ]
    },
    {
      "cell_type": "code",
      "metadata": {
        "id": "QSTO-IZjXBUp",
        "colab_type": "code",
        "colab": {
          "base_uri": "https://localhost:8080/",
          "height": 54
        },
        "outputId": "1bd9d06e-d241-4bbb-e922-83f66aeb33d5"
      },
      "source": [
        "task0_abstention_results['metricname_to_abstfrac_to_abstncalib_to_perf']['auroc']['0.15'].keys()"
      ],
      "execution_count": 10,
      "outputs": [
        {
          "output_type": "execute_result",
          "data": {
            "text/plain": [
              "dict_keys(['distfrom0.5:none', 'distfrom0.5:platt', 'estwindowdelta_auroc_15pc:none', 'estwindowdelta_auroc_15pc:platt', 'estwindowdelta_auroc_30pc:none', 'estwindowdelta_auroc_30pc:platt', 'fumera_auroc_15pc:none', 'fumera_auroc_15pc:platt', 'fumera_auroc_30pc:none', 'fumera_auroc_30pc:platt', 'fumera_tpratfpr_15pc:none', 'fumera_tpratfpr_15pc:platt', 'fumera_tpratfpr_30pc:none', 'fumera_tpratfpr_30pc:platt', 'js:none', 'js:platt', 'mcwindowdelta_tpratfpr_15pc:none', 'mcwindowdelta_tpratfpr_15pc:platt', 'mcwindowdelta_tpratfpr_30pc:none', 'mcwindowdelta_tpratfpr_30pc:platt', 'uncertainty:none', 'uncertainty:platt'])"
            ]
          },
          "metadata": {
            "tags": []
          },
          "execution_count": 10
        }
      ]
    },
    {
      "cell_type": "code",
      "metadata": {
        "id": "-KPStlv82uqz",
        "colab_type": "code",
        "outputId": "2f775f2a-146b-43e7-8c9d-8bf7a6f9cff1",
        "colab": {
          "base_uri": "https://localhost:8080/",
          "height": 289
        }
      },
      "source": [
        "from abstention.figure_making_utils import (\n",
        "    wilcox_srs, get_ustats_mat,\n",
        "    get_tied_top_and_worst_methods)\n",
        "import numpy as np\n",
        "\n",
        "metricnames = ['auroc', 'tpratfpr_0.2']\n",
        "abstfracs = ['0.15', '0.3']\n",
        "\n",
        "abstfrac_to_metricname_to_methodnames = {\n",
        "    '0.15': {\n",
        "        'auroc': ['distfrom0.5:none',\n",
        "                  'distfrom0.5:platt',\n",
        "                  #'js:none',\n",
        "                  'js:platt',\n",
        "                  #'estwindowdelta_auroc_15pc:none',\n",
        "                  'estwindowdelta_auroc_15pc:platt',\n",
        "                  'fumera_auroc_15pc:none',\n",
        "                  'fumera_auroc_15pc:platt'],\n",
        "        'tpratfpr_0.2': ['distfrom0.5:none',\n",
        "                         'distfrom0.5:platt',\n",
        "                         #'js:none',\n",
        "                         'js:platt',\n",
        "                         #'mcwindowdelta_tpratfpr_15pc:none',\n",
        "                         'mcwindowdelta_tpratfpr_15pc:platt',\n",
        "                         'fumera_tpratfpr_15pc:none',\n",
        "                         'fumera_tpratfpr_15pc:platt']\n",
        "    },\n",
        "    '0.3': {\n",
        "        'auroc': ['distfrom0.5:none',\n",
        "                  'distfrom0.5:platt',\n",
        "                  #'js:none',\n",
        "                  'js:platt',\n",
        "                  #'estwindowdelta_auroc_30pc:none',\n",
        "                  'estwindowdelta_auroc_30pc:platt',\n",
        "                  'fumera_auroc_30pc:none',\n",
        "                  'fumera_auroc_30pc:platt'],\n",
        "        'tpratfpr_0.2': ['distfrom0.5:none',\n",
        "                         'distfrom0.5:platt',\n",
        "                         #'js:none',\n",
        "                         'js:platt',\n",
        "                         #'mcwindowdelta_tpratfpr_30pc:none',\n",
        "                         'mcwindowdelta_tpratfpr_30pc:platt',\n",
        "                         'fumera_tpratfpr_30pc:none',\n",
        "                         'fumera_tpratfpr_30pc:platt']\n",
        "    }   \n",
        "}\n",
        "\n",
        "for abstention_results in [task0_abstention_results,\n",
        "                           task1_abstention_results]:\n",
        "  for metricname in metricnames:\n",
        "    for abstfrac in abstfracs:\n",
        "      methodnames = abstfrac_to_metricname_to_methodnames[abstfrac][metricname]\n",
        "      nsamples = len(list(\n",
        "        abstention_results['metricname_to_abstfrac_to_abstncalib_to_perf']\n",
        "                          [metricname][abstfrac].values())[0])\n",
        "      print(metricname, abstfrac)\n",
        "      ustats_mat = get_ustats_mat(\n",
        "          method_to_perfs=\n",
        "            abstention_results['metricname_to_abstfrac_to_abstncalib_to_perf']\n",
        "                [metricname][abstfrac],\n",
        "          method_names=methodnames,\n",
        "          max_ustat=nsamples*(nsamples+1)/2 )\n",
        "      tied_top_methods, tied_worst_methods =(\n",
        "          get_tied_top_and_worst_methods(\n",
        "              ustats_mat,\n",
        "              methodnames,\n",
        "              #0.05 threshold for one-sided test from normal approx when N=30,\n",
        "              #from https://www.oreilly.com/library/view/nonparametric-statistics-a/9781118840429/bapp02.xhtml\n",
        "              threshold=151\n",
        "          ))\n",
        "      tied_top_methods = [methodnames[x] for x in tied_top_methods]\n",
        "      print(tied_top_methods)"
      ],
      "execution_count": 16,
      "outputs": [
        {
          "output_type": "stream",
          "text": [
            "auroc 0.15\n",
            "['estwindowdelta_auroc_15pc:platt']\n",
            "auroc 0.3\n",
            "['estwindowdelta_auroc_30pc:platt']\n",
            "tpratfpr_0.2 0.15\n",
            "['mcwindowdelta_tpratfpr_15pc:platt']\n",
            "tpratfpr_0.2 0.3\n",
            "['mcwindowdelta_tpratfpr_30pc:platt']\n",
            "auroc 0.15\n",
            "['estwindowdelta_auroc_15pc:platt']\n",
            "auroc 0.3\n",
            "['estwindowdelta_auroc_30pc:platt']\n",
            "tpratfpr_0.2 0.15\n",
            "['mcwindowdelta_tpratfpr_15pc:platt']\n",
            "tpratfpr_0.2 0.3\n",
            "['mcwindowdelta_tpratfpr_30pc:platt']\n"
          ],
          "name": "stdout"
        }
      ]
    },
    {
      "cell_type": "code",
      "metadata": {
        "id": "kFWfZrW0lBTc",
        "colab_type": "code",
        "colab": {}
      },
      "source": [
        ""
      ],
      "execution_count": 0,
      "outputs": []
    }
  ]
}