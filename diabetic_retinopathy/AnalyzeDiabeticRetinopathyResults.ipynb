{
  "nbformat": 4,
  "nbformat_minor": 0,
  "metadata": {
    "colab": {
      "name": "AnalyzeDiabeticRetinopathyResults.ipynb",
      "version": "0.3.2",
      "provenance": [],
      "collapsed_sections": [],
      "include_colab_link": true
    },
    "kernelspec": {
      "name": "python3",
      "display_name": "Python 3"
    }
  },
  "cells": [
    {
      "cell_type": "markdown",
      "metadata": {
        "id": "view-in-github",
        "colab_type": "text"
      },
      "source": [
        "<a href=\"https://colab.research.google.com/github/blindauth/abstention_experiments/blob/master/diabetic_retinopathy/AnalyzeDiabeticRetinopathyResults.ipynb\" target=\"_parent\"><img src=\"https://colab.research.google.com/assets/colab-badge.svg\" alt=\"Open In Colab\"/></a>"
      ]
    },
    {
      "cell_type": "code",
      "metadata": {
        "id": "0PP_1glqtoye",
        "colab_type": "code",
        "outputId": "81895fa1-fe88-4aae-d55f-0423a9acf338",
        "colab": {
          "base_uri": "https://localhost:8080/",
          "height": 496
        }
      },
      "source": [
        "!rm -r abstention\n",
        "!pip uninstall abstention\n",
        "!git clone https://github.com/blindauth/abstention.git\n",
        "!pip install abstention/\n",
        "![[ -e abstention_experiments ]] || git clone https://github.com/blindauth/abstention_experiments.git"
      ],
      "execution_count": 1,
      "outputs": [
        {
          "output_type": "stream",
          "text": [
            "rm: cannot remove 'abstention': No such file or directory\n",
            "\u001b[33mWARNING: Skipping abstention as it is not installed.\u001b[0m\n",
            "Cloning into 'abstention'...\n",
            "remote: Enumerating objects: 51, done.\u001b[K\n",
            "remote: Counting objects: 100% (51/51), done.\u001b[K\n",
            "remote: Compressing objects: 100% (38/38), done.\u001b[K\n",
            "remote: Total 51 (delta 18), reused 42 (delta 9), pack-reused 0\u001b[K\n",
            "Unpacking objects: 100% (51/51), done.\n",
            "Processing ./abstention\n",
            "Requirement already satisfied: numpy>=1.9 in /usr/local/lib/python3.6/dist-packages (from abstention==0.1.2.1) (1.16.3)\n",
            "Requirement already satisfied: scikit-learn>=0.20.0 in /usr/local/lib/python3.6/dist-packages (from abstention==0.1.2.1) (0.21.1)\n",
            "Requirement already satisfied: scipy>=1.1.0 in /usr/local/lib/python3.6/dist-packages (from abstention==0.1.2.1) (1.3.0)\n",
            "Requirement already satisfied: joblib>=0.11 in /usr/local/lib/python3.6/dist-packages (from scikit-learn>=0.20.0->abstention==0.1.2.1) (0.12.5)\n",
            "Building wheels for collected packages: abstention\n",
            "  Building wheel for abstention (setup.py) ... \u001b[?25l\u001b[?25hdone\n",
            "  Stored in directory: /tmp/pip-ephem-wheel-cache-0rqzb2k2/wheels/60/8e/d2/9e9ca02e7b5f76bfda2e2daa6dcbe42c19095c502ccb653729\n",
            "Successfully built abstention\n",
            "Installing collected packages: abstention\n",
            "Successfully installed abstention-0.1.2.1\n",
            "Cloning into 'abstention_experiments'...\n",
            "remote: Enumerating objects: 1084, done.\u001b[K\n",
            "remote: Counting objects: 100% (1084/1084), done.\u001b[K\n",
            "remote: Compressing objects: 100% (1079/1079), done.\u001b[K\n",
            "remote: Total 4022 (delta 25), reused 1050 (delta 5), pack-reused 2938\u001b[K\n",
            "Receiving objects: 100% (4022/4022), 289.18 MiB | 46.25 MiB/s, done.\n",
            "Resolving deltas: 100% (41/41), done.\n",
            "Checking out files: 100% (3891/3891), done.\n"
          ],
          "name": "stdout"
        }
      ]
    },
    {
      "cell_type": "code",
      "metadata": {
        "id": "MpfPWee3yyxj",
        "colab_type": "code",
        "outputId": "200b943b-f057-4253-e341-11cbc89c28ba",
        "colab": {
          "base_uri": "https://localhost:8080/",
          "height": 272
        }
      },
      "source": [
        "!ls abstention_experiments/diabetic_retinopathy"
      ],
      "execution_count": 2,
      "outputs": [
        {
          "output_type": "stream",
          "text": [
            "AnalyzeDiabeticRetinopathyResults.ipynb\n",
            "diabeticretinopathy_useweightrescalpreds-False_labelshift-False_abstention_results.json.gz\n",
            "diabeticretinopathy_useweightrescalpreds-False_labelshift-True_abstention_results.json.gz\n",
            "diabeticretinopathy_useweightrescalpreds-True_labelshift-False_abstention_results.json.gz\n",
            "diabeticretinopathy_useweightrescalpreds-True_labelshift-True_abstention_results.json.gz\n",
            "flip-False_rotamt-0\n",
            "flip-False_rotamt-180\n",
            "flip-False_rotamt-270\n",
            "flip-False_rotamt-90\n",
            "flip-True_rotamt-0\n",
            "flip-True_rotamt-180\n",
            "flip-True_rotamt-270\n",
            "flip-True_rotamt-90\n",
            "RunDiabeticRetinopathyExperiments.ipynb\n",
            "valid_labels.txt.gz\n"
          ],
          "name": "stdout"
        }
      ]
    },
    {
      "cell_type": "code",
      "metadata": {
        "id": "8Qtgbb96kOv2",
        "colab_type": "code",
        "colab": {}
      },
      "source": [
        "import gzip\n",
        "import json"
      ],
      "execution_count": 0,
      "outputs": []
    },
    {
      "cell_type": "code",
      "metadata": {
        "id": "nm4BMYGm1XEt",
        "colab_type": "code",
        "colab": {}
      },
      "source": [
        "dr_weightrescale_false_labelshift_false_abstention_results =\\\n",
        "  json.loads(gzip.open(\"abstention_experiments/diabetic_retinopathy/\"\n",
        "    +\"diabeticretinopathy_useweightrescalpreds\"\n",
        "    +\"-False_labelshift-False_abstention_results.json.gz\").read())\n",
        "dr_weightrescale_false_labelshift_true_abstention_results =\\\n",
        "  json.loads(gzip.open(\"abstention_experiments/diabetic_retinopathy/\"\n",
        "    +\"diabeticretinopathy_useweightrescalpreds\"\n",
        "    +\"-False_labelshift-True_abstention_results.json.gz\").read())\n",
        "\n",
        "dr_weightrescale_true_labelshift_false_abstention_results =\\\n",
        "  json.loads(gzip.open(\"abstention_experiments/diabetic_retinopathy/\"\n",
        "    +\"diabeticretinopathy_useweightrescalpreds\"\n",
        "    +\"-True_labelshift-False_abstention_results.json.gz\").read())\n",
        "dr_weightrescale_true_labelshift_true_abstention_results =\\\n",
        "  json.loads(gzip.open(\"abstention_experiments/diabetic_retinopathy/\"\n",
        "    +\"diabeticretinopathy_useweightrescalpreds\"\n",
        "    +\"-True_labelshift-True_abstention_results.json.gz\").read())"
      ],
      "execution_count": 0,
      "outputs": []
    },
    {
      "cell_type": "code",
      "metadata": {
        "id": "-KPStlv82uqz",
        "colab_type": "code",
        "outputId": "dc5c9f6c-820a-4e24-cb50-2970223fc143",
        "colab": {
          "base_uri": "https://localhost:8080/",
          "height": 2077
        }
      },
      "source": [
        "from abstention.figure_making_utils import (\n",
        "    wilcox_srs, get_ustats_mat,\n",
        "    get_tied_top_and_worst_methods)\n",
        "import numpy as np\n",
        "\n",
        "abstfracs = ['0.3', '0.25', '0.2', '0.15', '0.1']\n",
        "\n",
        "methodnames_noadapt = [\n",
        "    'yescalib:estmarginalweightedkappa',\n",
        "    'yescalib:jsdiv',\n",
        "    'yescalib:entropy',\n",
        "    'nocalib:entropy',\n",
        "    'yescalib:distmaxclassprobfromone',\n",
        "    'nocalib:distmaxclassprobfromone',\n",
        "    'yescalib:variance',\n",
        "    'nocalib:variance'    \n",
        "]\n",
        "\n",
        "methodnames_yesadapt = [\n",
        "    'yesadapt:estmarginalweightedkappa',\n",
        "    'noadapt:estmarginalweightedkappa',\n",
        "    'yesadapt:jsdiv',\n",
        "    'noadapt:jsdiv',\n",
        "    'yesadapt:entropy',\n",
        "    'noadapt:entropy',\n",
        "    'yesadapt:distmaxclassprobfromone',\n",
        "    'noadapt:distmaxclassprobfromone',\n",
        "    'yesadapt:variance',\n",
        "    'noadapt:variance'    \n",
        "]\n",
        "\n",
        "abstname_to_nicename = {\n",
        "    'estmarginalweightedkappa': 'Est $\\Delta$Metric (Ours)',\n",
        "    'jsdiv': 'JS Div. (Ours)',\n",
        "    'entropy': 'Entropy',\n",
        "    'distmaxclassprobfromone': 'Max Class Prob.',\n",
        "    'variance': 'Test-time Dropout'}\n",
        "\n",
        "def stdderr(vals):\n",
        "  return np.std(vals, ddof=1)/np.sqrt(len(vals))\n",
        "\n",
        "for settingname, results_dict, methodnames in [\n",
        "    (\"yesweightrescale_nolabelshift\",\n",
        "     dr_weightrescale_true_labelshift_false_abstention_results,\n",
        "     methodnames_noadapt),\n",
        "    (\"yesweightrescale_yeslabelshift\",\n",
        "     dr_weightrescale_true_labelshift_true_abstention_results,\n",
        "     methodnames_yesadapt),\n",
        "    (\"noweightrescale_nolabelshift\",\n",
        "     dr_weightrescale_false_labelshift_false_abstention_results,\n",
        "     methodnames_noadapt),\n",
        "    (\"noweightrescale_yeslabelshift\",\n",
        "     dr_weightrescale_false_labelshift_true_abstention_results,\n",
        "     methodnames_yesadapt)]:\n",
        "\n",
        "  print(settingname)\n",
        "  abstfrac_to_methodname_to_perfs =\\\n",
        "    results_dict[\"abstfrac_to_methodname_to_perfs\"]\n",
        "  methodprefix_to_baseperfs = results_dict[\"methodprefix_to_baseperfs\"]\n",
        "  \n",
        "  abstfrac_to_bestmethods = {}  \n",
        "  for abstfrac in abstfracs:    \n",
        "    nsamples = len(list(abstfrac_to_methodname_to_perfs[abstfrac].values())[0])\n",
        "    \n",
        "    ustats_mat = get_ustats_mat(\n",
        "        method_to_perfs=abstfrac_to_methodname_to_perfs[abstfrac],\n",
        "        method_names=methodnames,\n",
        "        max_ustat=nsamples*(nsamples+1)/2 )\n",
        "    tied_top_methods, tied_worst_methods =(\n",
        "        get_tied_top_and_worst_methods(\n",
        "            ustats_mat,\n",
        "            methodnames,\n",
        "            #0.05 threshold for one-sided test from normal approx when N=30,\n",
        "            #from https://www.oreilly.com/library/view/nonparametric-statistics-a/9781118840429/bapp02.xhtml\n",
        "            threshold=151\n",
        "        ))\n",
        "    tied_top_methods = [methodnames[x] for x in tied_top_methods]\n",
        "    print(abstfrac, tied_top_methods)\n",
        "    abstfrac_to_bestmethods[abstfrac] = set(tied_top_methods)\n",
        "    \n",
        "  thetable = (\"\"\"\n",
        "\\\\begin{table*}[!h]\n",
        "\\\\tiny\n",
        "\\\\begin{center}\n",
        "\\\\begin{tabular}{ | c c | c c c c c c | }\n",
        "\\\\hline\n",
        "\\\\multicolumn{2}{| c |}{ } & \\\\multicolumn{6}{ c |}{\"\"\"\n",
        "+\"Diabetic Retinopathy Cohen's Weighted Kappa \"\n",
        "+(\"(with label shift)\" if (\"yeslabelshift\" in settingname) else \"(no label shift)\")+\"\"\"}\\\\\\\\\n",
        "\\\\multicolumn{1}{| c}{Method} & \\\\multicolumn{1}{c |}{\"\"\"\n",
        "+(\"Calib\" if (\"nolabelshift\" in settingname) else \"Adapted\")\n",
        "+\"\"\"?} & Base & @30\\\\% Abst. & @25\\\\% Abst. & @20\\\\% Abst. & @15\\\\% Abst. & @10\\\\% Abst. \\\\\\\\ \\\\hline\\n\"\"\")\n",
        "\n",
        "  for methodname in methodnames:\n",
        "    nicename = abstname_to_nicename[methodname.split(\":\")[1]]\n",
        "    thetable += nicename\n",
        "    thetable += \" & \"+(\"Y\" if (\"yes\" in methodname.split(\":\")[0]) else 'N')\n",
        "    baseperfs = methodprefix_to_baseperfs[methodname.split(\":\")[0]]\n",
        "    thetable += (\" & \"+str(np.round(np.mean(baseperfs),4))\n",
        "                     +\"$\\\\pm$\"+str(np.round(stdderr(baseperfs),4)))\n",
        "    for abstfrac in abstfracs:\n",
        "      methodperfs = abstfrac_to_methodname_to_perfs[abstfrac][methodname]\n",
        "      isbest = (methodname in abstfrac_to_bestmethods[abstfrac])\n",
        "      thetable += \" & \"\n",
        "      if (isbest):\n",
        "        thetable += \"\\\\textbf{\"\n",
        "      thetable += (str(np.round(np.mean(methodperfs),4))\n",
        "                       +\"$\\pm$\"+str(np.round(stdderr(methodperfs),4)))\n",
        "      if (isbest):\n",
        "        thetable += \"}\"\n",
        "    thetable += \"\\\\\\\\ \\\\hline\\n\"\n",
        "    if (methodname==\"yescalib:jsdiv\" or methodname==\"noadapt:jsdiv\"):\n",
        "      thetable += \"\\\\hline\\n\"\n",
        "  thetable += \"\"\"\\\\end{tabular}\n",
        "\\\\end{center}\n",
        "\\\\caption{\\\\textbf{}. }\n",
        "\\\\label{tab:dr_\"\"\"+settingname+\"\"\"}\n",
        "\\\\end{table*}\n",
        "\"\"\"\n",
        "  print(thetable)\n",
        "   "
      ],
      "execution_count": 32,
      "outputs": [
        {
          "output_type": "stream",
          "text": [
            "yesweightrescale_nolabelshift\n",
            "0.3 ['yescalib:estmarginalweightedkappa']\n",
            "0.25 ['yescalib:estmarginalweightedkappa']\n",
            "0.2 ['yescalib:estmarginalweightedkappa']\n",
            "0.15 ['yescalib:estmarginalweightedkappa']\n",
            "0.1 ['yescalib:estmarginalweightedkappa']\n",
            "\n",
            "\\begin{table*}[!h]\n",
            "\\tiny\n",
            "\\begin{center}\n",
            "\\begin{tabular}{ | c c | c c c c c c | }\n",
            "\\hline\n",
            "\\multicolumn{2}{| c |}{ } & \\multicolumn{6}{ c |}{Diabetic Retinopathy Cohen's Weighted Kappa (no label shift)}\\\\\n",
            "\\multicolumn{1}{| c}{Method} & \\multicolumn{1}{c |}{Calib?} & Base & @30\\% Abst. & @25\\% Abst. & @20\\% Abst. & @15\\% Abst. & @10\\% Abst. \\\\ \\hline\n",
            "Est $\\Delta$Metric (Ours) & Y & 0.8104$\\pm$0.0019 & \\textbf{0.8918$\\pm$0.0013} & \\textbf{0.8875$\\pm$0.0014} & \\textbf{0.88$\\pm$0.0016} & \\textbf{0.8714$\\pm$0.0016} & \\textbf{0.8597$\\pm$0.0017}\\\\ \\hline\n",
            "JS Div. (Ours) & Y & 0.8104$\\pm$0.0019 & 0.8529$\\pm$0.0015 & 0.8497$\\pm$0.0015 & 0.8463$\\pm$0.0015 & 0.8419$\\pm$0.0015 & 0.8357$\\pm$0.0015\\\\ \\hline\n",
            "\\hline\n",
            "Entropy & Y & 0.8104$\\pm$0.0019 & 0.7667$\\pm$0.0064 & 0.8039$\\pm$0.0047 & 0.8318$\\pm$0.0032 & 0.8433$\\pm$0.0025 & 0.8417$\\pm$0.002\\\\ \\hline\n",
            "Entropy & N & 0.8104$\\pm$0.0019 & 0.7517$\\pm$0.0067 & 0.7883$\\pm$0.0049 & 0.814$\\pm$0.0035 & 0.831$\\pm$0.0028 & 0.8378$\\pm$0.0022\\\\ \\hline\n",
            "Max Class Prob. & Y & 0.8104$\\pm$0.0019 & 0.7522$\\pm$0.0067 & 0.7879$\\pm$0.0049 & 0.8107$\\pm$0.0035 & 0.8236$\\pm$0.0029 & 0.8279$\\pm$0.0023\\\\ \\hline\n",
            "Max Class Prob. & N & 0.8104$\\pm$0.0019 & 0.7527$\\pm$0.0066 & 0.7856$\\pm$0.0048 & 0.8046$\\pm$0.0036 & 0.8189$\\pm$0.0029 & 0.8241$\\pm$0.0024\\\\ \\hline\n",
            "Test-time Dropout & Y & 0.8104$\\pm$0.0019 & 0.6535$\\pm$0.0099 & 0.706$\\pm$0.0071 & 0.7428$\\pm$0.0051 & 0.7694$\\pm$0.0037 & 0.7849$\\pm$0.003\\\\ \\hline\n",
            "Test-time Dropout & N & 0.8104$\\pm$0.0019 & 0.6775$\\pm$0.0101 & 0.73$\\pm$0.0067 & 0.7575$\\pm$0.0049 & 0.777$\\pm$0.0038 & 0.7872$\\pm$0.003\\\\ \\hline\n",
            "\\end{tabular}\n",
            "\\end{center}\n",
            "\\caption{\\textbf{}. }\n",
            "\\label{tab:dr_yesweightrescale_nolabelshift}\n",
            "\\end{table*}\n",
            "\n",
            "yesweightrescale_yeslabelshift\n",
            "0.3 ['yesadapt:estmarginalweightedkappa']\n",
            "0.25 ['yesadapt:estmarginalweightedkappa']\n",
            "0.2 ['yesadapt:estmarginalweightedkappa']\n",
            "0.15 ['yesadapt:estmarginalweightedkappa', 'yesadapt:jsdiv']\n",
            "0.1 ['yesadapt:estmarginalweightedkappa', 'yesadapt:jsdiv']\n",
            "\n",
            "\\begin{table*}[!h]\n",
            "\\tiny\n",
            "\\begin{center}\n",
            "\\begin{tabular}{ | c c | c c c c c c | }\n",
            "\\hline\n",
            "\\multicolumn{2}{| c |}{ } & \\multicolumn{6}{ c |}{Diabetic Retinopathy Cohen's Weighted Kappa (with label shift)}\\\\\n",
            "\\multicolumn{1}{| c}{Method} & \\multicolumn{1}{c |}{Adapted?} & Base & @30\\% Abst. & @25\\% Abst. & @20\\% Abst. & @15\\% Abst. & @10\\% Abst. \\\\ \\hline\n",
            "Est $\\Delta$Metric (Ours) & Y & 0.7817$\\pm$0.0045 & \\textbf{0.8559$\\pm$0.0027} & \\textbf{0.8499$\\pm$0.0028} & \\textbf{0.8423$\\pm$0.003} & \\textbf{0.8319$\\pm$0.0034} & \\textbf{0.8203$\\pm$0.0037}\\\\ \\hline\n",
            "Est $\\Delta$Metric (Ours) & N & 0.732$\\pm$0.0039 & 0.8228$\\pm$0.0036 & 0.8155$\\pm$0.0035 & 0.8061$\\pm$0.0037 & 0.7968$\\pm$0.0036 & 0.7837$\\pm$0.0038\\\\ \\hline\n",
            "JS Div. (Ours) & Y & 0.7817$\\pm$0.0045 & 0.8396$\\pm$0.0028 & 0.84$\\pm$0.0028 & 0.838$\\pm$0.0028 & \\textbf{0.8316$\\pm$0.0032} & \\textbf{0.8203$\\pm$0.0036}\\\\ \\hline\n",
            "JS Div. (Ours) & N & 0.732$\\pm$0.0039 & 0.8457$\\pm$0.003 & 0.8397$\\pm$0.0031 & 0.8288$\\pm$0.0032 & 0.8154$\\pm$0.0033 & 0.7972$\\pm$0.0035\\\\ \\hline\n",
            "\\hline\n",
            "Entropy & Y & 0.7817$\\pm$0.0045 & 0.8426$\\pm$0.0041 & 0.8346$\\pm$0.0043 & 0.8274$\\pm$0.0045 & 0.8191$\\pm$0.0046 & 0.8086$\\pm$0.0047\\\\ \\hline\n",
            "Entropy & N & 0.732$\\pm$0.0039 & 0.7837$\\pm$0.0053 & 0.7795$\\pm$0.0049 & 0.7756$\\pm$0.0046 & 0.7697$\\pm$0.0044 & 0.7602$\\pm$0.004\\\\ \\hline\n",
            "Max Class Prob. & Y & 0.7817$\\pm$0.0045 & 0.8339$\\pm$0.005 & 0.8261$\\pm$0.0049 & 0.819$\\pm$0.0048 & 0.8117$\\pm$0.0048 & 0.8029$\\pm$0.0048\\\\ \\hline\n",
            "Max Class Prob. & N & 0.732$\\pm$0.0039 & 0.7788$\\pm$0.0054 & 0.7727$\\pm$0.0049 & 0.7678$\\pm$0.0045 & 0.7625$\\pm$0.0044 & 0.7533$\\pm$0.0042\\\\ \\hline\n",
            "Test-time Dropout & Y & 0.7817$\\pm$0.0045 & 0.7912$\\pm$0.0047 & 0.7843$\\pm$0.0045 & 0.7776$\\pm$0.0043 & 0.7743$\\pm$0.0043 & 0.7718$\\pm$0.0044\\\\ \\hline\n",
            "Test-time Dropout & N & 0.732$\\pm$0.0039 & 0.7532$\\pm$0.0054 & 0.7456$\\pm$0.005 & 0.7399$\\pm$0.0047 & 0.7334$\\pm$0.0043 & 0.7236$\\pm$0.0045\\\\ \\hline\n",
            "\\end{tabular}\n",
            "\\end{center}\n",
            "\\caption{\\textbf{}. }\n",
            "\\label{tab:dr_yesweightrescale_yeslabelshift}\n",
            "\\end{table*}\n",
            "\n",
            "noweightrescale_nolabelshift\n",
            "0.3 ['yescalib:estmarginalweightedkappa']\n",
            "0.25 ['yescalib:estmarginalweightedkappa']\n",
            "0.2 ['yescalib:estmarginalweightedkappa']\n",
            "0.15 ['yescalib:estmarginalweightedkappa']\n",
            "0.1 ['yescalib:estmarginalweightedkappa']\n",
            "\n",
            "\\begin{table*}[!h]\n",
            "\\tiny\n",
            "\\begin{center}\n",
            "\\begin{tabular}{ | c c | c c c c c c | }\n",
            "\\hline\n",
            "\\multicolumn{2}{| c |}{ } & \\multicolumn{6}{ c |}{Diabetic Retinopathy Cohen's Weighted Kappa (no label shift)}\\\\\n",
            "\\multicolumn{1}{| c}{Method} & \\multicolumn{1}{c |}{Calib?} & Base & @30\\% Abst. & @25\\% Abst. & @20\\% Abst. & @15\\% Abst. & @10\\% Abst. \\\\ \\hline\n",
            "Est $\\Delta$Metric (Ours) & Y & 0.8106$\\pm$0.0018 & \\textbf{0.8948$\\pm$0.0013} & \\textbf{0.8905$\\pm$0.0014} & \\textbf{0.8842$\\pm$0.0014} & \\textbf{0.8739$\\pm$0.0015} & \\textbf{0.8619$\\pm$0.0016}\\\\ \\hline\n",
            "JS Div. (Ours) & Y & 0.8106$\\pm$0.0018 & 0.8555$\\pm$0.0014 & 0.8521$\\pm$0.0014 & 0.8488$\\pm$0.0014 & 0.8435$\\pm$0.0014 & 0.8369$\\pm$0.0015\\\\ \\hline\n",
            "\\hline\n",
            "Entropy & Y & 0.8106$\\pm$0.0018 & 0.7407$\\pm$0.0078 & 0.7949$\\pm$0.005 & 0.8284$\\pm$0.0033 & 0.841$\\pm$0.0026 & 0.8401$\\pm$0.0021\\\\ \\hline\n",
            "Entropy & N & 0.8106$\\pm$0.0018 & 0.7351$\\pm$0.0076 & 0.7789$\\pm$0.0052 & 0.812$\\pm$0.0037 & 0.8351$\\pm$0.0027 & 0.838$\\pm$0.0021\\\\ \\hline\n",
            "Max Class Prob. & Y & 0.8106$\\pm$0.0018 & 0.7348$\\pm$0.0076 & 0.776$\\pm$0.0053 & 0.8054$\\pm$0.0037 & 0.8222$\\pm$0.0029 & 0.826$\\pm$0.0024\\\\ \\hline\n",
            "Max Class Prob. & N & 0.8106$\\pm$0.0018 & 0.7361$\\pm$0.0075 & 0.774$\\pm$0.0052 & 0.8024$\\pm$0.0037 & 0.8174$\\pm$0.0029 & 0.8236$\\pm$0.0025\\\\ \\hline\n",
            "Test-time Dropout & Y & 0.8106$\\pm$0.0018 & 0.6613$\\pm$0.0102 & 0.7086$\\pm$0.0069 & 0.7443$\\pm$0.0052 & 0.7714$\\pm$0.0037 & 0.7844$\\pm$0.0031\\\\ \\hline\n",
            "Test-time Dropout & N & 0.8106$\\pm$0.0018 & 0.6775$\\pm$0.0101 & 0.73$\\pm$0.0067 & 0.7575$\\pm$0.0049 & 0.7772$\\pm$0.0038 & 0.7867$\\pm$0.003\\\\ \\hline\n",
            "\\end{tabular}\n",
            "\\end{center}\n",
            "\\caption{\\textbf{}. }\n",
            "\\label{tab:dr_noweightrescale_nolabelshift}\n",
            "\\end{table*}\n",
            "\n",
            "noweightrescale_yeslabelshift\n",
            "0.3 ['yesadapt:estmarginalweightedkappa']\n",
            "0.25 ['yesadapt:estmarginalweightedkappa']\n",
            "0.2 ['yesadapt:estmarginalweightedkappa']\n",
            "0.15 ['yesadapt:estmarginalweightedkappa']\n",
            "0.1 ['yesadapt:estmarginalweightedkappa', 'yesadapt:jsdiv']\n",
            "\n",
            "\\begin{table*}[!h]\n",
            "\\tiny\n",
            "\\begin{center}\n",
            "\\begin{tabular}{ | c c | c c c c c c | }\n",
            "\\hline\n",
            "\\multicolumn{2}{| c |}{ } & \\multicolumn{6}{ c |}{Diabetic Retinopathy Cohen's Weighted Kappa (with label shift)}\\\\\n",
            "\\multicolumn{1}{| c}{Method} & \\multicolumn{1}{c |}{Adapted?} & Base & @30\\% Abst. & @25\\% Abst. & @20\\% Abst. & @15\\% Abst. & @10\\% Abst. \\\\ \\hline\n",
            "Est $\\Delta$Metric (Ours) & Y & 0.7837$\\pm$0.0044 & \\textbf{0.8604$\\pm$0.0027} & \\textbf{0.8536$\\pm$0.0028} & \\textbf{0.8462$\\pm$0.0028} & \\textbf{0.8363$\\pm$0.0031} & \\textbf{0.8246$\\pm$0.0034}\\\\ \\hline\n",
            "Est $\\Delta$Metric (Ours) & N & 0.7313$\\pm$0.004 & 0.8275$\\pm$0.0035 & 0.818$\\pm$0.0035 & 0.8076$\\pm$0.0036 & 0.7975$\\pm$0.0037 & 0.7862$\\pm$0.0038\\\\ \\hline\n",
            "JS Div. (Ours) & Y & 0.7837$\\pm$0.0044 & 0.8457$\\pm$0.0027 & 0.8459$\\pm$0.0027 & 0.8417$\\pm$0.0028 & 0.8349$\\pm$0.003 & \\textbf{0.8248$\\pm$0.0034}\\\\ \\hline\n",
            "JS Div. (Ours) & N & 0.7313$\\pm$0.004 & 0.8515$\\pm$0.0029 & 0.8424$\\pm$0.0031 & 0.8313$\\pm$0.0031 & 0.8174$\\pm$0.0033 & 0.7986$\\pm$0.0034\\\\ \\hline\n",
            "\\hline\n",
            "Entropy & Y & 0.7837$\\pm$0.0044 & 0.8464$\\pm$0.0045 & 0.8386$\\pm$0.0046 & 0.8309$\\pm$0.0045 & 0.822$\\pm$0.0046 & 0.8115$\\pm$0.0048\\\\ \\hline\n",
            "Entropy & N & 0.7313$\\pm$0.004 & 0.7802$\\pm$0.0053 & 0.7773$\\pm$0.0049 & 0.7741$\\pm$0.0048 & 0.7684$\\pm$0.0046 & 0.7591$\\pm$0.0043\\\\ \\hline\n",
            "Max Class Prob. & Y & 0.7837$\\pm$0.0044 & 0.8372$\\pm$0.0052 & 0.8294$\\pm$0.0052 & 0.8213$\\pm$0.0049 & 0.8137$\\pm$0.0048 & 0.8051$\\pm$0.0046\\\\ \\hline\n",
            "Max Class Prob. & N & 0.7313$\\pm$0.004 & 0.777$\\pm$0.0055 & 0.7704$\\pm$0.0052 & 0.7673$\\pm$0.0048 & 0.7632$\\pm$0.0044 & 0.7535$\\pm$0.0042\\\\ \\hline\n",
            "Test-time Dropout & Y & 0.7837$\\pm$0.0044 & 0.7954$\\pm$0.0048 & 0.7874$\\pm$0.0044 & 0.7819$\\pm$0.0043 & 0.7771$\\pm$0.0043 & 0.7741$\\pm$0.0045\\\\ \\hline\n",
            "Test-time Dropout & N & 0.7313$\\pm$0.004 & 0.7567$\\pm$0.0055 & 0.7494$\\pm$0.0052 & 0.7445$\\pm$0.0049 & 0.7384$\\pm$0.0044 & 0.7279$\\pm$0.0044\\\\ \\hline\n",
            "\\end{tabular}\n",
            "\\end{center}\n",
            "\\caption{\\textbf{}. }\n",
            "\\label{tab:dr_noweightrescale_yeslabelshift}\n",
            "\\end{table*}\n",
            "\n"
          ],
          "name": "stdout"
        }
      ]
    },
    {
      "cell_type": "code",
      "metadata": {
        "id": "Sj5hwrHCgKad",
        "colab_type": "code",
        "colab": {
          "base_uri": "https://localhost:8080/",
          "height": 34
        },
        "outputId": "650e31dd-a0db-417d-e438-737e4c62fa60"
      },
      "source": [
        "dr_weightrescale_false_labelshift_true_abstention_results['methodprefix_to_baseperfs'].keys()"
      ],
      "execution_count": 10,
      "outputs": [
        {
          "output_type": "execute_result",
          "data": {
            "text/plain": [
              "dict_keys(['noadapt', 'yesadapt'])"
            ]
          },
          "metadata": {
            "tags": []
          },
          "execution_count": 10
        }
      ]
    },
    {
      "cell_type": "code",
      "metadata": {
        "id": "nesbR5e5Morv",
        "colab_type": "code",
        "colab": {}
      },
      "source": [
        "#note: in some cases, the uncalibrated version of\n",
        "# estmarginalweightedkappa does better than the calibrated version, but\n",
        "# this is likely an artifact of having access to only one pretrained model\n",
        "# (unfortunately the other winners didn't make their models public, to our knowledge)"
      ],
      "execution_count": 0,
      "outputs": []
    }
  ]
}