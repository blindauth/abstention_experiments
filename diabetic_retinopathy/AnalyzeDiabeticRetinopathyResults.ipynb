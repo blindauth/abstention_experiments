{
  "nbformat": 4,
  "nbformat_minor": 0,
  "metadata": {
    "colab": {
      "name": "AnalyzeDiabeticRetinopathyResults.ipynb",
      "version": "0.3.2",
      "provenance": [],
      "collapsed_sections": [],
      "include_colab_link": true
    },
    "kernelspec": {
      "name": "python3",
      "display_name": "Python 3"
    }
  },
  "cells": [
    {
      "cell_type": "markdown",
      "metadata": {
        "id": "view-in-github",
        "colab_type": "text"
      },
      "source": [
        "<a href=\"https://colab.research.google.com/github/blindauth/abstention_experiments/blob/master/diabetic_retinopathy/AnalyzeDiabeticRetinopathyResults.ipynb\" target=\"_parent\"><img src=\"https://colab.research.google.com/assets/colab-badge.svg\" alt=\"Open In Colab\"/></a>"
      ]
    },
    {
      "cell_type": "code",
      "metadata": {
        "id": "0PP_1glqtoye",
        "colab_type": "code",
        "outputId": "5214d6f7-cd49-42a6-b7d4-e140600ee466",
        "colab": {
          "base_uri": "https://localhost:8080/",
          "height": 411
        }
      },
      "source": [
        "!rm -r abstention\n",
        "!pip uninstall abstention\n",
        "!git clone https://github.com/blindauth/abstention.git\n",
        "!pip install abstention/\n",
        "![[ -e abstention_experiments ]] || git clone https://github.com/blindauth/abstention_experiments.git"
      ],
      "execution_count": 1,
      "outputs": [
        {
          "output_type": "stream",
          "text": [
            "Uninstalling abstention-0.1.2.1:\n",
            "  Would remove:\n",
            "    /usr/local/lib/python3.6/dist-packages/abstention-0.1.2.1.dist-info/*\n",
            "    /usr/local/lib/python3.6/dist-packages/abstention/*\n",
            "Proceed (y/n)? y\n",
            "  Successfully uninstalled abstention-0.1.2.1\n",
            "Cloning into 'abstention'...\n",
            "remote: Enumerating objects: 51, done.\u001b[K\n",
            "remote: Counting objects: 100% (51/51), done.\u001b[K\n",
            "remote: Compressing objects: 100% (38/38), done.\u001b[K\n",
            "remote: Total 51 (delta 18), reused 42 (delta 9), pack-reused 0\n",
            "Unpacking objects: 100% (51/51), done.\n",
            "Processing ./abstention\n",
            "Requirement already satisfied: numpy>=1.9 in /usr/local/lib/python3.6/dist-packages (from abstention==0.1.2.1) (1.16.3)\n",
            "Requirement already satisfied: scikit-learn>=0.20.0 in /usr/local/lib/python3.6/dist-packages (from abstention==0.1.2.1) (0.20.3)\n",
            "Requirement already satisfied: scipy>=1.1.0 in /usr/local/lib/python3.6/dist-packages (from abstention==0.1.2.1) (1.2.1)\n",
            "Building wheels for collected packages: abstention\n",
            "  Building wheel for abstention (setup.py) ... \u001b[?25l\u001b[?25hdone\n",
            "  Stored in directory: /tmp/pip-ephem-wheel-cache-k5ca360l/wheels/60/8e/d2/9e9ca02e7b5f76bfda2e2daa6dcbe42c19095c502ccb653729\n",
            "Successfully built abstention\n",
            "Installing collected packages: abstention\n",
            "Successfully installed abstention-0.1.2.1\n"
          ],
          "name": "stdout"
        }
      ]
    },
    {
      "cell_type": "code",
      "metadata": {
        "id": "MpfPWee3yyxj",
        "colab_type": "code",
        "colab": {
          "base_uri": "https://localhost:8080/",
          "height": 272
        },
        "outputId": "ff8b4494-c745-4f9b-b940-7bfbf45c441f"
      },
      "source": [
        "!ls abstention_experiments/diabetic_retinopathy"
      ],
      "execution_count": 2,
      "outputs": [
        {
          "output_type": "stream",
          "text": [
            "AnalyzeDiabeticRetinopathyResults.ipynb\n",
            "diabeticretinopathy_useweightrescalpreds-False_labelshift-False_abstention_results.json.gz\n",
            "diabeticretinopathy_useweightrescalpreds-False_labelshift-True_abstention_results.json.gz\n",
            "diabeticretinopathy_useweightrescalpreds-True_labelshift-False_abstention_results.json.gz\n",
            "diabeticretinopathy_useweightrescalpreds-True_labelshift-True_abstention_results.json.gz\n",
            "flip-False_rotamt-0\n",
            "flip-False_rotamt-180\n",
            "flip-False_rotamt-270\n",
            "flip-False_rotamt-90\n",
            "flip-True_rotamt-0\n",
            "flip-True_rotamt-180\n",
            "flip-True_rotamt-270\n",
            "flip-True_rotamt-90\n",
            "RunDiabeticRetinopathyExperiments.ipynb\n",
            "valid_labels.txt.gz\n"
          ],
          "name": "stdout"
        }
      ]
    },
    {
      "cell_type": "code",
      "metadata": {
        "id": "8Qtgbb96kOv2",
        "colab_type": "code",
        "colab": {}
      },
      "source": [
        "import gzip\n",
        "import json"
      ],
      "execution_count": 0,
      "outputs": []
    },
    {
      "cell_type": "code",
      "metadata": {
        "id": "nm4BMYGm1XEt",
        "colab_type": "code",
        "colab": {}
      },
      "source": [
        "dr_weightrescale_false_labelshift_false_abstention_results =\\\n",
        "  json.loads(gzip.open(\"abstention_experiments/diabetic_retinopathy/\"\n",
        "    +\"diabeticretinopathy_useweightrescalpreds\"\n",
        "    +\"-False_labelshift-False_abstention_results.json.gz\").read())\n",
        "dr_weightrescale_false_labelshift_true_abstention_results =\\\n",
        "  json.loads(gzip.open(\"abstention_experiments/diabetic_retinopathy/\"\n",
        "    +\"diabeticretinopathy_useweightrescalpreds\"\n",
        "    +\"-False_labelshift-True_abstention_results.json.gz\").read())\n",
        "\n",
        "dr_weightrescale_true_labelshift_false_abstention_results =\\\n",
        "  json.loads(gzip.open(\"abstention_experiments/diabetic_retinopathy/\"\n",
        "    +\"diabeticretinopathy_useweightrescalpreds\"\n",
        "    +\"-True_labelshift-False_abstention_results.json.gz\").read())\n",
        "dr_weightrescale_true_labelshift_true_abstention_results =\\\n",
        "  json.loads(gzip.open(\"abstention_experiments/diabetic_retinopathy/\"\n",
        "    +\"diabeticretinopathy_useweightrescalpreds\"\n",
        "    +\"-True_labelshift-True_abstention_results.json.gz\").read())"
      ],
      "execution_count": 0,
      "outputs": []
    },
    {
      "cell_type": "code",
      "metadata": {
        "id": "-KPStlv82uqz",
        "colab_type": "code",
        "colab": {
          "base_uri": "https://localhost:8080/",
          "height": 357
        },
        "outputId": "46fd67f3-addc-4f56-9de9-dd7db65466dc"
      },
      "source": [
        "from abstention.figure_making_utils import (\n",
        "    wilcox_srs, get_ustats_mat,\n",
        "    get_tied_top_and_worst_methods)\n",
        "import numpy as np\n",
        "\n",
        "abstfracs = ['0.15', '0.3']\n",
        "\n",
        "methodnames_noadapt = [\n",
        "    'yescalib:estmarginalweightedkappa',\n",
        "    'yescalib:jsdiv',\n",
        "    'nocalib:jsdiv',\n",
        "    'yescalib:entropy',\n",
        "    'nocalib:entropy',\n",
        "    'yescalib:distmaxclassprobfromone',\n",
        "    'nocalib:distmaxclassprobfromone',\n",
        "    'yescalib:variance',\n",
        "    'nocalib:variance'    \n",
        "]\n",
        "\n",
        "methodnames_yesadapt = [\n",
        "    'yesadapt:estmarginalweightedkappa',\n",
        "    'noadapt:estmarginalweightedkappa',\n",
        "    'yesadapt:entropy',\n",
        "    'noadapt:entropy',\n",
        "    'yesadapt:distmaxclassprobfromone',\n",
        "    'noadapt:distmaxclassprobfromone',\n",
        "    'yesadapt:variance',\n",
        "    'noadapt:variance'    \n",
        "]\n",
        "\n",
        "for settingname, results_dict, methodnames in [\n",
        "    (\"noweightrescale_nolabelshift\",\n",
        "     dr_weightrescale_false_labelshift_false_abstention_results,\n",
        "     methodnames_noadapt),\n",
        "    (\"noweightrescale_yeslabelshift\",\n",
        "     dr_weightrescale_false_labelshift_true_abstention_results,\n",
        "     methodnames_yesadapt),\n",
        "    (\"yesweightrescale_nolabelshift\",\n",
        "     dr_weightrescale_true_labelshift_false_abstention_results,\n",
        "     methodnames_noadapt),\n",
        "    (\"yesweightrescale_yeslabelshift\",\n",
        "     dr_weightrescale_true_labelshift_true_abstention_results,\n",
        "     methodnames_yesadapt)]:\n",
        "\n",
        "  print(settingname)\n",
        "  abstfrac_to_methodname_to_perfs =\\\n",
        "    results_dict[\"abstfrac_to_methodname_to_perfs\"]\n",
        "  methodprefix_to_baseperfs = results_dict[\"methodprefix_to_baseperfs\"]\n",
        "  \n",
        "  for abstfrac in abstfracs:\n",
        "    \n",
        "    nsamples = len(list(abstfrac_to_methodname_to_perfs[abstfrac].values())[0])\n",
        "    print(abstfrac)\n",
        "    \n",
        "    ustats_mat = get_ustats_mat(\n",
        "        method_to_perfs=abstfrac_to_methodname_to_perfs[abstfrac],\n",
        "        method_names=methodnames,\n",
        "        max_ustat=nsamples*(nsamples+1)/2 )\n",
        "    tied_top_methods, tied_worst_methods =(\n",
        "        get_tied_top_and_worst_methods(\n",
        "            ustats_mat,\n",
        "            methodnames,\n",
        "            #0.05 threshold for one-sided test from normal approx when N=30,\n",
        "            #from https://www.oreilly.com/library/view/nonparametric-statistics-a/9781118840429/bapp02.xhtml\n",
        "            threshold=151\n",
        "        ))\n",
        "    tied_top_methods = [methodnames[x] for x in tied_top_methods]\n",
        "    print(tied_top_methods)"
      ],
      "execution_count": 6,
      "outputs": [
        {
          "output_type": "stream",
          "text": [
            "noweightrescale_nolabelshift\n",
            "0.15\n",
            "['yescalib:estmarginalweightedkappa']\n",
            "0.3\n",
            "['yescalib:estmarginalweightedkappa']\n",
            "noweightrescale_yeslabelshift\n",
            "0.15\n",
            "['yesadapt:estmarginalweightedkappa']\n",
            "0.3\n",
            "['yesadapt:estmarginalweightedkappa']\n",
            "yesweightrescale_nolabelshift\n",
            "0.15\n",
            "['yescalib:estmarginalweightedkappa']\n",
            "0.3\n",
            "['yescalib:estmarginalweightedkappa']\n",
            "yesweightrescale_yeslabelshift\n",
            "0.15\n",
            "['yesadapt:estmarginalweightedkappa']\n",
            "0.3\n",
            "['yesadapt:estmarginalweightedkappa']\n"
          ],
          "name": "stdout"
        }
      ]
    },
    {
      "cell_type": "code",
      "metadata": {
        "id": "nesbR5e5Morv",
        "colab_type": "code",
        "colab": {}
      },
      "source": [
        "#note: in some cases, the uncalibrated version of\n",
        "# estmarginalweightedkappa does better than the calibrated version, but\n",
        "# this is likely an artifact of having access to only one pretrained model\n",
        "# (unfortunately the other winners didn't make their models public, to our knowledge)"
      ],
      "execution_count": 0,
      "outputs": []
    }
  ]
}