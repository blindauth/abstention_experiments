{
  "nbformat": 4,
  "nbformat_minor": 0,
  "metadata": {
    "colab": {
      "name": "CohensKappaConvergence.ipynb",
      "version": "0.3.2",
      "provenance": [],
      "collapsed_sections": [],
      "include_colab_link": true
    },
    "kernelspec": {
      "name": "python3",
      "display_name": "Python 3"
    }
  },
  "cells": [
    {
      "cell_type": "markdown",
      "metadata": {
        "id": "view-in-github",
        "colab_type": "text"
      },
      "source": [
        "<a href=\"https://colab.research.google.com/github/blindauth/abstention_experiments/blob/master/convergence_experiments/CohensKappaConvergence.ipynb\" target=\"_parent\"><img src=\"https://colab.research.google.com/assets/colab-badge.svg\" alt=\"Open In Colab\"/></a>"
      ]
    },
    {
      "cell_type": "code",
      "metadata": {
        "id": "0PP_1glqtoye",
        "colab_type": "code",
        "outputId": "a0a396e4-e022-43d9-8258-1551e2d7052c",
        "colab": {
          "base_uri": "https://localhost:8080/",
          "height": 360
        }
      },
      "source": [
        "!rm -r abstention\n",
        "!pip uninstall abstention\n",
        "!git clone https://github.com/blindauth/abstention.git\n",
        "!pip install abstention/"
      ],
      "execution_count": 1,
      "outputs": [
        {
          "output_type": "stream",
          "text": [
            "rm: cannot remove 'abstention': No such file or directory\n",
            "\u001b[33mWARNING: Skipping abstention as it is not installed.\u001b[0m\n",
            "Cloning into 'abstention'...\n",
            "remote: Enumerating objects: 51, done.\u001b[K\n",
            "remote: Counting objects: 100% (51/51), done.\u001b[K\n",
            "remote: Compressing objects: 100% (38/38), done.\u001b[K\n",
            "remote: Total 51 (delta 18), reused 42 (delta 9), pack-reused 0\u001b[K\n",
            "Unpacking objects: 100% (51/51), done.\n",
            "Processing ./abstention\n",
            "Requirement already satisfied: numpy>=1.9 in /usr/local/lib/python3.6/dist-packages (from abstention==0.1.2.1) (1.16.3)\n",
            "Requirement already satisfied: scikit-learn>=0.20.0 in /usr/local/lib/python3.6/dist-packages (from abstention==0.1.2.1) (0.21.1)\n",
            "Requirement already satisfied: scipy>=1.1.0 in /usr/local/lib/python3.6/dist-packages (from abstention==0.1.2.1) (1.3.0)\n",
            "Requirement already satisfied: joblib>=0.11 in /usr/local/lib/python3.6/dist-packages (from scikit-learn>=0.20.0->abstention==0.1.2.1) (0.12.5)\n",
            "Building wheels for collected packages: abstention\n",
            "  Building wheel for abstention (setup.py) ... \u001b[?25l\u001b[?25hdone\n",
            "  Stored in directory: /tmp/pip-ephem-wheel-cache-wiqt6ro0/wheels/60/8e/d2/9e9ca02e7b5f76bfda2e2daa6dcbe42c19095c502ccb653729\n",
            "Successfully built abstention\n",
            "Installing collected packages: abstention\n",
            "Successfully installed abstention-0.1.2.1\n"
          ],
          "name": "stdout"
        }
      ]
    },
    {
      "cell_type": "code",
      "metadata": {
        "id": "Ny_FVNBuyAT8",
        "colab_type": "code",
        "colab": {}
      },
      "source": [
        "import numpy as np\n",
        "import scipy.stats\n",
        "\n",
        "#simulate some data\n",
        "def generate_dataset(n, class_proportions,\n",
        "                        class_means,\n",
        "                        class_stds, seed=1234):\n",
        "    assert len(class_proportions)==len(class_means)\n",
        "    assert len(class_proportions)==len(class_stds)\n",
        "    \n",
        "    rng = np.random.RandomState(seed)\n",
        "    labels = []\n",
        "    predicted_outputs = []\n",
        "    calibrated_probs = []\n",
        "    \n",
        "    for label in rng.multinomial(n=1, pvals=class_proportions, size=n):\n",
        "        labels.append(label)\n",
        "        sampled_class = np.argmax(label)\n",
        "        \n",
        "        output = class_stds[sampled_class]*(\n",
        "            rng.randn(1)[0]) + class_means[sampled_class]\n",
        "        predicted_outputs.append(output)\n",
        "\n",
        "        this_calibrated_probs = np.zeros(len(class_proportions))\n",
        "        for class_idx in range(len(class_proportions)):\n",
        "          this_calibrated_probs[class_idx] =(\n",
        "            scipy.stats.norm.pdf(\n",
        "              output,class_means[class_idx],class_stds[class_idx])\n",
        "            *class_proportions[class_idx])\n",
        "        this_calibrated_probs = this_calibrated_probs/np.sum(\n",
        "                                  this_calibrated_probs)\n",
        "        calibrated_probs.append(this_calibrated_probs)    \n",
        "    return np.array(labels), np.array(predicted_outputs), np.array(calibrated_probs)\n",
        "  "
      ],
      "execution_count": 0,
      "outputs": []
    },
    {
      "cell_type": "code",
      "metadata": {
        "id": "TMqW468QzenH",
        "colab_type": "code",
        "colab": {}
      },
      "source": [
        "labels, pred_outputs, calib_probs = generate_dataset(\n",
        "    n=10000,\n",
        "    class_proportions=[0.4, 0.3, 0.2, 0.1],\n",
        "    class_means=[-8, -3, 3, 4],\n",
        "    class_stds = [4, 3, 3, 2])"
      ],
      "execution_count": 0,
      "outputs": []
    },
    {
      "cell_type": "code",
      "metadata": {
        "id": "3Oy7q9piqnu2",
        "colab_type": "code",
        "outputId": "7a24b240-2b1b-4e73-9510-9ca9c42fe3a5",
        "colab": {
          "base_uri": "https://localhost:8080/",
          "height": 269
        }
      },
      "source": [
        "from matplotlib import pyplot as plt\n",
        "import seaborn as sns\n",
        "sns.distplot(pred_outputs[labels[:,0]==1])\n",
        "sns.distplot(pred_outputs[labels[:,1]==1])\n",
        "sns.distplot(pred_outputs[labels[:,2]==1])\n",
        "sns.distplot(pred_outputs[labels[:,3]==1])\n",
        "plt.show()"
      ],
      "execution_count": 4,
      "outputs": [
        {
          "output_type": "display_data",
          "data": {
            "image/png": "[encoded data removed]",
            "text/plain": [
              "<Figure size 432x288 with 1 Axes>"
            ]
          },
          "metadata": {
            "tags": []
          }
        }
      ]
    },
    {
      "cell_type": "code",
      "metadata": {
        "id": "I-FjfTHItM5S",
        "colab_type": "code",
        "outputId": "288fe322-f8fa-42f2-ddd8-6d584715410f",
        "colab": {
          "base_uri": "https://localhost:8080/",
          "height": 34
        }
      },
      "source": [
        "from abstention.abstention import weighted_kappa_metric\n",
        "\n",
        "quadratic_weights = np.array([[(i-j)**2 for i in range(4)]\n",
        "                               for j in range(4)])\n",
        "print(weighted_kappa_metric(predprobs=calib_probs,\n",
        "                            true_labels=labels,\n",
        "                            weights=quadratic_weights,\n",
        "                            #'mode' determines how the predicted class\n",
        "                            # is selected - we use the standard way of\n",
        "                            # determining the predicted class, which is to\n",
        "                            # take the argmax over the class probabilities\n",
        "                            mode='argmax'))"
      ],
      "execution_count": 5,
      "outputs": [
        {
          "output_type": "stream",
          "text": [
            "0.7754523560064345\n"
          ],
          "name": "stdout"
        }
      ]
    },
    {
      "cell_type": "code",
      "metadata": {
        "id": "Dydm1q7kDwR7",
        "colab_type": "code",
        "outputId": "e3502d3f-e340-4e4b-96ba-8237b006353c",
        "colab": {
          "base_uri": "https://localhost:8080/",
          "height": 289
        }
      },
      "source": [
        "import scipy.signal\n",
        "from abstention.abstention import (\n",
        "    RecursiveEstMarginalWeightedKappa,\n",
        "    EstMarginalWeightedKappa, MonteCarloMarginalWeightedKappa,\n",
        "    OneMinusJSDivFromClassFreq)\n",
        "\n",
        "abstention_scores_jsdiv = OneMinusJSDivFromClassFreq()()(\n",
        "                            posterior_probs=calib_probs)\n",
        "\n",
        "abstention_scores_estmarginalweightedkappa = EstMarginalWeightedKappa(\n",
        "  weights=quadratic_weights, mode='argmax')()(posterior_probs=calib_probs)\n",
        "\n",
        "abstention_scores_montecarlomarginalweightedkappa_100samp =\\\n",
        "  MonteCarloMarginalWeightedKappa(\n",
        "    weights=quadratic_weights,\n",
        "    mode='argmax', n_samples=100, seed=1234)()(posterior_probs=calib_probs)\n",
        "\n",
        "#abstention_scores_recursiveestmarginalweightedkappa =\\\n",
        "#  RecursiveEstMarginalWeightedKappa(\n",
        "#    weights=quadratic_weights, mode='argmax',\n",
        "#    num_abstained_per_iter=[int(0.05*len(calib_probs))]*5\n",
        "#    )()(posterior_probs=calib_probs)\n",
        "\n",
        "for abstention_pc in [0.3, 0.2, 0.1, 0.05]:\n",
        "  print(\"abstention percent\", abstention_pc)\n",
        "  for abstention_scores in [abstention_scores_jsdiv,\n",
        "                            abstention_scores_estmarginalweightedkappa,\n",
        "                            abstention_scores_montecarlomarginalweightedkappa_100samp]:\n",
        "      retained_indices = [x[0] for x in sorted(\n",
        "          enumerate(abstention_scores),\n",
        "          key=lambda x: x[1])[:-int(abstention_pc*len(abstention_scores))]]\n",
        "      retained_calib_probs = calib_probs[retained_indices]\n",
        "      retained_labels = labels[retained_indices]\n",
        "      \n",
        "      print(weighted_kappa_metric(\n",
        "            predprobs=retained_calib_probs,\n",
        "            true_labels=retained_labels,\n",
        "            weights=quadratic_weights,\n",
        "            mode='argmax'))\n",
        "      \n"
      ],
      "execution_count": 6,
      "outputs": [
        {
          "output_type": "stream",
          "text": [
            "abstention percent 0.3\n",
            "0.8443642510148147\n",
            "0.8473256980764523\n",
            "0.847624715447574\n",
            "abstention percent 0.2\n",
            "0.8230227179387415\n",
            "0.8270685243378594\n",
            "0.8249733092325326\n",
            "abstention percent 0.1\n",
            "0.8012058035692182\n",
            "0.8044066005780167\n",
            "0.8029122693656979\n",
            "abstention percent 0.05\n",
            "0.7884220944167324\n",
            "0.7915008721019239\n",
            "0.7897874913150008\n"
          ],
          "name": "stdout"
        }
      ]
    },
    {
      "cell_type": "code",
      "metadata": {
        "id": "JCqjbWCNzuWz",
        "colab_type": "code",
        "outputId": "5a8fe20d-97a9-4368-fb0a-16b9f94c544a",
        "colab": {
          "base_uri": "https://localhost:8080/",
          "height": 357
        }
      },
      "source": [
        "\n",
        "abstention_scores_estmarginalweightedkappa = EstMarginalWeightedKappa(\n",
        "  weights=quadratic_weights, mode='argmax')()(posterior_probs=calib_probs)\n",
        "\n",
        "n_samples = 50\n",
        "num_iters = 20\n",
        "\n",
        "mcfunc = MonteCarloMarginalWeightedKappa(\n",
        "    weights=quadratic_weights,\n",
        "    mode='argmax', n_samples=n_samples, seed=1234)()\n",
        "\n",
        "the_mean = np.zeros(len(calib_probs))\n",
        "\n",
        "difference_from_est = []\n",
        "\n",
        "for i in range(0,num_iters):\n",
        "    abstention_scores =\\\n",
        "      mcfunc(posterior_probs=calib_probs)\n",
        "    the_mean = (the_mean*i + abstention_scores)/(i+1)\n",
        "    avg_diff = np.mean(np.abs(abstention_scores_estmarginalweightedkappa\n",
        "                         -the_mean) )\n",
        "    print(\"Samples\",n_samples*(i+1),\n",
        "          \"mean difference\", avg_diff)\n",
        "    difference_from_est.append(avg_diff)"
      ],
      "execution_count": 7,
      "outputs": [
        {
          "output_type": "stream",
          "text": [
            "Samples 50 mean difference 3.2128149473350618e-06\n",
            "Samples 100 mean difference 2.275837083083059e-06\n",
            "Samples 150 mean difference 1.8756552778137638e-06\n",
            "Samples 200 mean difference 1.6296483811096983e-06\n",
            "Samples 250 mean difference 1.4593070638135072e-06\n",
            "Samples 300 mean difference 1.3385715885727603e-06\n",
            "Samples 350 mean difference 1.2312388465524866e-06\n",
            "Samples 400 mean difference 1.148836009342058e-06\n",
            "Samples 450 mean difference 1.0816118399891126e-06\n",
            "Samples 500 mean difference 1.0199306544690796e-06\n",
            "Samples 550 mean difference 9.780265232484366e-07\n",
            "Samples 600 mean difference 9.355898520167605e-07\n",
            "Samples 650 mean difference 8.999954185881532e-07\n",
            "Samples 700 mean difference 8.631974625477497e-07\n",
            "Samples 750 mean difference 8.302469014791186e-07\n",
            "Samples 800 mean difference 8.033476781880532e-07\n",
            "Samples 850 mean difference 7.782472917853038e-07\n",
            "Samples 900 mean difference 7.560046783586367e-07\n",
            "Samples 950 mean difference 7.378232050586909e-07\n",
            "Samples 1000 mean difference 7.184932264103788e-07\n"
          ],
          "name": "stdout"
        }
      ]
    },
    {
      "cell_type": "code",
      "metadata": {
        "id": "RBYbb2F6kkPa",
        "colab_type": "code",
        "outputId": "d27266cc-f11f-4a47-dec6-1358c6b96519",
        "colab": {
          "base_uri": "https://localhost:8080/",
          "height": 283
        }
      },
      "source": [
        "from matplotlib import pyplot as plt\n",
        "plt.plot(np.arange(num_iters)*n_samples, np.log(difference_from_est)/np.log(10))\n",
        "plt.xlabel(\"Number of Monte Carlo samples\")\n",
        "plt.ylabel(\"Log of absolute difference\")\n",
        "plt.show()"
      ],
      "execution_count": 8,
      "outputs": [
        {
          "output_type": "display_data",
          "data": {
            "image/png": "[encoded data removed]",
            "text/plain": [
              "<Figure size 432x288 with 1 Axes>"
            ]
          },
          "metadata": {
            "tags": []
          }
        }
      ]
    },
    {
      "cell_type": "code",
      "metadata": {
        "id": "lU29UDQbn1gk",
        "colab_type": "code",
        "colab": {}
      },
      "source": [
        ""
      ],
      "execution_count": 0,
      "outputs": []
    }
  ]
}