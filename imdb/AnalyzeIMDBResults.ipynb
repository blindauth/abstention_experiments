{
  "nbformat": 4,
  "nbformat_minor": 0,
  "metadata": {
    "colab": {
      "name": "AnalyzeIMDBResults.ipynb",
      "version": "0.3.2",
      "provenance": [],
      "collapsed_sections": [],
      "include_colab_link": true
    },
    "kernelspec": {
      "name": "python3",
      "display_name": "Python 3"
    }
  },
  "cells": [
    {
      "cell_type": "markdown",
      "metadata": {
        "id": "view-in-github",
        "colab_type": "text"
      },
      "source": [
        "<a href=\"https://colab.research.google.com/github/blindauth/abstention_experiments/blob/master/imdb/AnalyzeIMDBResults.ipynb\" target=\"_parent\"><img src=\"https://colab.research.google.com/assets/colab-badge.svg\" alt=\"Open In Colab\"/></a>"
      ]
    },
    {
      "cell_type": "code",
      "metadata": {
        "id": "0PP_1glqtoye",
        "colab_type": "code",
        "outputId": "4d490ea2-1250-42d2-ab4d-2c740d3e3289",
        "colab": {
          "base_uri": "https://localhost:8080/",
          "height": 462
        }
      },
      "source": [
        "!rm -r abstention\n",
        "!pip uninstall abstention\n",
        "!git clone https://github.com/blindauth/abstention.git\n",
        "!pip install abstention/\n",
        "![[ -e abstention_experiments ]] || git clone https://github.com/blindauth/abstention_experiments.git"
      ],
      "execution_count": 0,
      "outputs": [
        {
          "output_type": "stream",
          "text": [
            "rm: cannot remove 'abstention': No such file or directory\n",
            "\u001b[33mWARNING: Skipping abstention as it is not installed.\u001b[0m\n",
            "Cloning into 'abstention'...\n",
            "remote: Enumerating objects: 51, done.\u001b[K\n",
            "remote: Counting objects: 100% (51/51), done.\u001b[K\n",
            "remote: Compressing objects: 100% (38/38), done.\u001b[K\n",
            "remote: Total 51 (delta 18), reused 42 (delta 9), pack-reused 0\n",
            "Unpacking objects: 100% (51/51), done.\n",
            "Processing ./abstention\n",
            "Requirement already satisfied: numpy>=1.9 in /usr/local/lib/python3.6/dist-packages (from abstention==0.1.2.1) (1.16.3)\n",
            "Requirement already satisfied: scikit-learn>=0.20.0 in /usr/local/lib/python3.6/dist-packages (from abstention==0.1.2.1) (0.20.3)\n",
            "Requirement already satisfied: scipy>=1.1.0 in /usr/local/lib/python3.6/dist-packages (from abstention==0.1.2.1) (1.2.1)\n",
            "Building wheels for collected packages: abstention\n",
            "  Building wheel for abstention (setup.py) ... \u001b[?25l\u001b[?25hdone\n",
            "  Stored in directory: /tmp/pip-ephem-wheel-cache-renszbbz/wheels/60/8e/d2/9e9ca02e7b5f76bfda2e2daa6dcbe42c19095c502ccb653729\n",
            "Successfully built abstention\n",
            "Installing collected packages: abstention\n",
            "Successfully installed abstention-0.1.2.1\n",
            "Cloning into 'abstention_experiments'...\n",
            "remote: Enumerating objects: 10, done.\u001b[K\n",
            "remote: Counting objects: 100% (10/10), done.\u001b[K\n",
            "remote: Compressing objects: 100% (9/9), done.\u001b[K\n",
            "remote: Total 2948 (delta 3), reused 4 (delta 1), pack-reused 2938\u001b[K\n",
            "Receiving objects: 100% (2948/2948), 264.98 MiB | 48.38 MiB/s, done.\n",
            "Resolving deltas: 100% (19/19), done.\n"
          ],
          "name": "stdout"
        }
      ]
    },
    {
      "cell_type": "code",
      "metadata": {
        "id": "MpfPWee3yyxj",
        "colab_type": "code",
        "outputId": "b50ef502-4924-4914-995f-38be61fd4eb6",
        "colab": {
          "base_uri": "https://localhost:8080/",
          "height": 136
        }
      },
      "source": [
        "!ls abstention_experiments/imdb"
      ],
      "execution_count": 0,
      "outputs": [
        {
          "output_type": "stream",
          "text": [
            "imdb_abstention_results.json.gz  record_6_model_mgGta_preds\n",
            "record_10_model_Vs2cs_preds\t record_7_model_Si0xy_preds\n",
            "record_1_model_FObIR_preds\t record_8_model_yds3D_preds\n",
            "record_2_model_T4HRC_preds\t record_9_model_dCvxV_preds\n",
            "record_3_model_ZGX50_preds\t Run_IMDB_Experiments.ipynb\n",
            "record_4_model_hWBrJ_preds\t test_labels.txt.gz\n",
            "record_5_model_mBWKc_preds\t valid_labels.txt.gz\n"
          ],
          "name": "stdout"
        }
      ]
    },
    {
      "cell_type": "code",
      "metadata": {
        "id": "8Qtgbb96kOv2",
        "colab_type": "code",
        "colab": {}
      },
      "source": [
        "import gzip\n",
        "import json\n",
        "imdb_abstention_results =\\\n",
        "  json.loads(gzip.open(\n",
        "    \"abstention_experiments/imdb/imdb_abstention_results.json.gz\").read())"
      ],
      "execution_count": 0,
      "outputs": []
    },
    {
      "cell_type": "code",
      "metadata": {
        "id": "L8HioWYIW81T",
        "colab_type": "code",
        "outputId": "aaf39bcf-a313-46d1-8dfc-8f7551cc5198",
        "colab": {
          "base_uri": "https://localhost:8080/",
          "height": 54
        }
      },
      "source": [
        "imdb_abstention_results.keys()"
      ],
      "execution_count": 0,
      "outputs": [
        {
          "output_type": "execute_result",
          "data": {
            "text/plain": [
              "dict_keys(['metricname_to_abstfrac_to_abstnadapt_to_perf', 'metricname_to_adaptname_to_baselineperfs'])"
            ]
          },
          "metadata": {
            "tags": []
          },
          "execution_count": 4
        }
      ]
    },
    {
      "cell_type": "code",
      "metadata": {
        "id": "QSTO-IZjXBUp",
        "colab_type": "code",
        "outputId": "60f21892-37c0-493e-ba7c-01f9b3dad9d0",
        "colab": {
          "base_uri": "https://localhost:8080/",
          "height": 34
        }
      },
      "source": [
        "imdb_abstention_results[\n",
        "    'metricname_to_abstfrac_to_abstnadapt_to_perf']['auroc']['0.15'].keys()"
      ],
      "execution_count": 0,
      "outputs": [
        {
          "output_type": "execute_result",
          "data": {
            "text/plain": [
              "dict_keys(['auroc', 'tpratfpr_0.01'])"
            ]
          },
          "metadata": {
            "tags": []
          },
          "execution_count": 6
        }
      ]
    },
    {
      "cell_type": "code",
      "metadata": {
        "id": "-KPStlv82uqz",
        "colab_type": "code",
        "outputId": "b2daa35a-67af-4757-d747-1ef6b66004ed",
        "colab": {
          "base_uri": "https://localhost:8080/",
          "height": 153
        }
      },
      "source": [
        "from abstention.figure_making_utils import (\n",
        "    wilcox_srs, get_ustats_mat,\n",
        "    get_tied_top_and_worst_methods)\n",
        "import numpy as np\n",
        "\n",
        "metricnames = ['auroc', 'tpratfpr_0.01']\n",
        "abstfracs = ['0.15', '0.3']\n",
        "\n",
        "abstfrac_to_metricname_to_methodnames = {\n",
        "    '0.15': {\n",
        "        'auroc': ['distfrom0.5:None',\n",
        "                  'distfrom0.5:EM',\n",
        "                  'js:None',\n",
        "                  'js:EM',\n",
        "                  'estwindowdelta_auroc_15pc:None',\n",
        "                  'estwindowdelta_auroc_15pc:EM',\n",
        "                  'fumera_auroc_15pc:None',\n",
        "                  'fumera_auroc_15pc:EM'],\n",
        "        'tpratfpr_0.01': ['distfrom0.5:None',\n",
        "                          'distfrom0.5:EM',\n",
        "                          'js:None',\n",
        "                          'js:EM',\n",
        "                          'mcwindowdelta_tpratfpr_15pc:None',\n",
        "                          'mcwindowdelta_tpratfpr_15pc:EM',\n",
        "                          'fumera_tpratfpr_15pc:None',\n",
        "                          'fumera_tpratfpr_15pc:EM']\n",
        "    },\n",
        "    '0.3': {\n",
        "        'auroc': ['distfrom0.5:None',\n",
        "                  'distfrom0.5:EM',\n",
        "                  'js:None',\n",
        "                  'js:EM',\n",
        "                  'estwindowdelta_auroc_30pc:None',\n",
        "                  'estwindowdelta_auroc_30pc:EM',\n",
        "                  'fumera_auroc_30pc:None',\n",
        "                  'fumera_auroc_30pc:EM'],\n",
        "        'tpratfpr_0.01': ['distfrom0.5:None',\n",
        "                          'distfrom0.5:EM',\n",
        "                          'js:None',\n",
        "                          'js:EM',\n",
        "                          'mcwindowdelta_tpratfpr_30pc:None',\n",
        "                          'mcwindowdelta_tpratfpr_30pc:EM',\n",
        "                          'fumera_tpratfpr_30pc:None',\n",
        "                          'fumera_tpratfpr_30pc:EM']\n",
        "    }   \n",
        "}\n",
        "\n",
        "for abstention_results in [imdb_abstention_results]:\n",
        "  for metricname in metricnames:\n",
        "    for abstfrac in abstfracs:\n",
        "      methodnames = abstfrac_to_metricname_to_methodnames[abstfrac][metricname]\n",
        "      nsamples = len(list(\n",
        "        abstention_results['metricname_to_abstfrac_to_abstnadapt_to_perf']\n",
        "                          [metricname][abstfrac].values())[0])\n",
        "      print(metricname, abstfrac)\n",
        "      ustats_mat = get_ustats_mat(\n",
        "          method_to_perfs=\n",
        "            abstention_results['metricname_to_abstfrac_to_abstnadapt_to_perf']\n",
        "                [metricname][abstfrac],\n",
        "          method_names=methodnames,\n",
        "          max_ustat=nsamples*(nsamples+1)/2 )\n",
        "      tied_top_methods, tied_worst_methods =(\n",
        "          get_tied_top_and_worst_methods(\n",
        "              ustats_mat,\n",
        "              methodnames,\n",
        "              #0.05 threshold for one-sided test from normal approx when N=30,\n",
        "              #from https://www.oreilly.com/library/view/nonparametric-statistics-a/9781118840429/bapp02.xhtml\n",
        "              threshold=151\n",
        "          ))\n",
        "      tied_top_methods = [methodnames[x] for x in tied_top_methods]\n",
        "      print(tied_top_methods)"
      ],
      "execution_count": 0,
      "outputs": [
        {
          "output_type": "stream",
          "text": [
            "auroc 0.15\n",
            "['estwindowdelta_auroc_15pc:EM']\n",
            "auroc 0.3\n",
            "['estwindowdelta_auroc_30pc:EM']\n",
            "tpratfpr_0.01 0.15\n",
            "['mcwindowdelta_tpratfpr_15pc:EM']\n",
            "tpratfpr_0.01 0.3\n",
            "['mcwindowdelta_tpratfpr_30pc:EM']\n"
          ],
          "name": "stdout"
        }
      ]
    },
    {
      "cell_type": "code",
      "metadata": {
        "id": "kFWfZrW0lBTc",
        "colab_type": "code",
        "colab": {}
      },
      "source": [
        ""
      ],
      "execution_count": 0,
      "outputs": []
    }
  ]
}