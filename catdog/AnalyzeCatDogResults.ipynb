{
  "nbformat": 4,
  "nbformat_minor": 0,
  "metadata": {
    "colab": {
      "name": "AnalyzeIMDBandCatDogResults.ipynb",
      "version": "0.3.2",
      "provenance": [],
      "collapsed_sections": [],
      "include_colab_link": true
    },
    "kernelspec": {
      "name": "python3",
      "display_name": "Python 3"
    }
  },
  "cells": [
    {
      "cell_type": "markdown",
      "metadata": {
        "id": "view-in-github",
        "colab_type": "text"
      },
      "source": [
        "<a href=\"https://colab.research.google.com/github/blindauth/abstention_experiments/blob/master/catdog/AnalyzeCatDogResults.ipynb\" target=\"_parent\"><img src=\"https://colab.research.google.com/assets/colab-badge.svg\" alt=\"Open In Colab\"/></a>"
      ]
    },
    {
      "cell_type": "code",
      "metadata": {
        "id": "0PP_1glqtoye",
        "colab_type": "code",
        "outputId": "1efb5ad4-4345-45f8-e6a5-78b9551495a6",
        "colab": {
          "base_uri": "https://localhost:8080/",
          "height": 513
        }
      },
      "source": [
        "!rm -r abstention\n",
        "!pip uninstall abstention\n",
        "!git clone https://github.com/blindauth/abstention.git\n",
        "!pip install abstention/\n",
        "![[ -e abstention_experiments ]] || git clone https://github.com/blindauth/abstention_experiments.git"
      ],
      "execution_count": 1,
      "outputs": [
        {
          "output_type": "stream",
          "text": [
            "rm: cannot remove 'abstention': No such file or directory\n",
            "\u001b[33mWARNING: Skipping abstention as it is not installed.\u001b[0m\n",
            "Cloning into 'abstention'...\n",
            "remote: Enumerating objects: 127, done.\u001b[K\n",
            "remote: Counting objects: 100% (127/127), done.\u001b[K\n",
            "remote: Compressing objects: 100% (84/84), done.\u001b[K\n",
            "remote: Total 127 (delta 75), reused 91 (delta 39), pack-reused 0\u001b[K\n",
            "Receiving objects: 100% (127/127), 65.16 KiB | 8.15 MiB/s, done.\n",
            "Resolving deltas: 100% (75/75), done.\n",
            "Processing ./abstention\n",
            "Requirement already satisfied: numpy>=1.9 in /usr/local/lib/python3.6/dist-packages (from abstention==0.1.2.1) (1.16.4)\n",
            "Requirement already satisfied: scikit-learn>=0.20.0 in /usr/local/lib/python3.6/dist-packages (from abstention==0.1.2.1) (0.21.2)\n",
            "Requirement already satisfied: scipy>=1.1.0 in /usr/local/lib/python3.6/dist-packages (from abstention==0.1.2.1) (1.3.0)\n",
            "Requirement already satisfied: joblib>=0.11 in /usr/local/lib/python3.6/dist-packages (from scikit-learn>=0.20.0->abstention==0.1.2.1) (0.13.2)\n",
            "Building wheels for collected packages: abstention\n",
            "  Building wheel for abstention (setup.py) ... \u001b[?25l\u001b[?25hdone\n",
            "  Stored in directory: /tmp/pip-ephem-wheel-cache-ajk5m_8n/wheels/60/8e/d2/9e9ca02e7b5f76bfda2e2daa6dcbe42c19095c502ccb653729\n",
            "Successfully built abstention\n",
            "Installing collected packages: abstention\n",
            "Successfully installed abstention-0.1.2.1\n",
            "Cloning into 'abstention_experiments'...\n",
            "remote: Enumerating objects: 1125, done.\u001b[K\n",
            "remote: Counting objects: 100% (1125/1125), done.\u001b[K\n",
            "remote: Compressing objects: 100% (1120/1120), done.\u001b[K\n",
            "remote: Total 4063 (delta 48), reused 1048 (delta 5), pack-reused 2938\u001b[K\n",
            "Receiving objects: 100% (4063/4063), 289.56 MiB | 44.42 MiB/s, done.\n",
            "Resolving deltas: 100% (64/64), done.\n",
            "Checking out files: 100% (3893/3893), done.\n"
          ],
          "name": "stdout"
        }
      ]
    },
    {
      "cell_type": "code",
      "metadata": {
        "id": "MpfPWee3yyxj",
        "colab_type": "code",
        "outputId": "ef86e29a-dfcf-4854-fa8d-57d2f5344dee",
        "colab": {
          "base_uri": "https://localhost:8080/",
          "height": 153
        }
      },
      "source": [
        "!ls abstention_experiments/imdb"
      ],
      "execution_count": 2,
      "outputs": [
        {
          "output_type": "stream",
          "text": [
            "AnalyzeIMDBandCatDogResults.ipynb  record_6_model_mgGta_preds\n",
            "imdb_abstention_results.json.gz    record_7_model_Si0xy_preds\n",
            "record_10_model_Vs2cs_preds\t   record_8_model_yds3D_preds\n",
            "record_1_model_FObIR_preds\t   record_9_model_dCvxV_preds\n",
            "record_2_model_T4HRC_preds\t   Run_IMDB_Experiments.ipynb\n",
            "record_3_model_ZGX50_preds\t   test_labels.txt.gz\n",
            "record_4_model_hWBrJ_preds\t   valid_labels.txt.gz\n",
            "record_5_model_mBWKc_preds\n"
          ],
          "name": "stdout"
        }
      ]
    },
    {
      "cell_type": "code",
      "metadata": {
        "id": "8Qtgbb96kOv2",
        "colab_type": "code",
        "colab": {}
      },
      "source": [
        "import gzip\n",
        "import json\n",
        "imdb_abstention_results =\\\n",
        "  json.loads(gzip.open(\n",
        "    \"abstention_experiments/imdb/imdb_abstention_results.json.gz\").read())\n",
        "catdog_abstention_results =\\\n",
        "  json.loads(gzip.open(\n",
        "    \"abstention_experiments/catdog/catdog_abstention_results.json.gz\").read())"
      ],
      "execution_count": 0,
      "outputs": []
    },
    {
      "cell_type": "code",
      "metadata": {
        "id": "-KPStlv82uqz",
        "colab_type": "code",
        "outputId": "0553a6a2-4548-4a00-9100-b8a54045cc6b",
        "colab": {
          "base_uri": "https://localhost:8080/",
          "height": 564
        }
      },
      "source": [
        "from abstention.figure_making_utils import (\n",
        "    wilcox_srs, get_ustats_mat,\n",
        "    get_tied_top_and_worst_methods)\n",
        "import numpy as np\n",
        "from collections import defaultdict\n",
        "\n",
        "abstfracs = ['0.15', '0.3']\n",
        "\n",
        "abstfrac_to_methodnames = {\n",
        "    '0.15': ['distfrom0.5:None',\n",
        "             'distfrom0.5:EM',\n",
        "             'js:None',\n",
        "             'js:EM',\n",
        "             'mcwindowdelta_tpratfpr_15pc:None',\n",
        "             'mcwindowdelta_tpratfpr_15pc:EM',\n",
        "             'fumera_tpratfpr_15pc:None',\n",
        "             'fumera_tpratfpr_15pc:EM',\n",
        "             'uncertainty:None',\n",
        "             'uncertainty:EM'],\n",
        "    '0.3': ['distfrom0.5:None',\n",
        "            'distfrom0.5:EM',\n",
        "            'js:None',\n",
        "            'js:EM',\n",
        "            'mcwindowdelta_tpratfpr_30pc:None',\n",
        "            'mcwindowdelta_tpratfpr_30pc:EM',\n",
        "            'fumera_tpratfpr_30pc:None',\n",
        "            'fumera_tpratfpr_30pc:EM',\n",
        "            'uncertainty:None',\n",
        "            'uncertainty:EM']\n",
        "}\n",
        "\n",
        "nicemethodname_to_adapt_to_abstfrac_to_methodname = {\n",
        "    \"Est $\\Delta$Metric (Ours)\": {\n",
        "        'yesadapt': {\n",
        "            '0.3': 'mcwindowdelta_tpratfpr_30pc:EM',\n",
        "            '0.15': 'mcwindowdelta_tpratfpr_15pc:EM'\n",
        "        }, 'noadapt': {\n",
        "            '0.3': 'mcwindowdelta_tpratfpr_30pc:None',\n",
        "            '0.15': 'mcwindowdelta_tpratfpr_15pc:None'\n",
        "        }\n",
        "    },\n",
        "    \"JS Div. (Ours)\": {\n",
        "        'yesadapt': {'0.3': 'js:EM', '0.15': 'js:EM'},\n",
        "        'noadapt': {'0.3': 'js:None', '0.15': 'js:None'}\n",
        "    },\n",
        "    \"Dist. from 0.5\": {\n",
        "        'yesadapt': {'0.3': 'distfrom0.5:EM', '0.15': 'distfrom0.5:EM'},\n",
        "        'noadapt': {'0.3': 'distfrom0.5:None', '0.15': 'distfrom0.5:None'}\n",
        "    },\n",
        "    \"Test-time Dropout\": {\n",
        "        'yesadapt': {'0.3': 'uncertainty:EM', '0.15': 'uncertainty:EM'},\n",
        "        'noadapt': {'0.3': 'uncertainty:None', '0.15': 'uncertainty:None'}\n",
        "    },\n",
        "    \"Fumera et al.\": {\n",
        "        'yesadapt': {\n",
        "              '0.3': 'fumera_tpratfpr_30pc:EM',\n",
        "              '0.15': 'fumera_tpratfpr_15pc:EM'\n",
        "        },\n",
        "        'noadapt': {\n",
        "              '0.3': 'fumera_tpratfpr_30pc:None',\n",
        "              '0.15': 'fumera_tpratfpr_15pc:None'\n",
        "        }\n",
        "    }\n",
        "}\n",
        "nicemethodname_orders = [\n",
        "    \"Est $\\Delta$Metric (Ours)\", \"JS Div. (Ours)\",\n",
        "    \"Dist. from 0.5\", \"Fumera et al.\", \"Test-time Dropout\"]\n",
        "\n",
        "def stdderr(vals):\n",
        "  return np.std(vals, ddof=1)/np.sqrt(len(vals))\n",
        "\n",
        "#identify the best methods\n",
        "datasetname_to_abstfrac_to_bestmethods = defaultdict(dict)  \n",
        "for datasetname,dataset_results in [('imdb', imdb_abstention_results),\n",
        "                                    ('catdog', catdog_abstention_results)]:\n",
        "  for abstfrac in abstfracs:\n",
        "    methodnames = abstfrac_to_methodnames[abstfrac]\n",
        "    nsamples = len(list(\n",
        "      dataset_results['metricname_to_abstfrac_to_abstnadapt_to_perf']\n",
        "                        ['tpratfpr_0.01'][abstfrac].values())[0])\n",
        "    ustats_mat = get_ustats_mat(\n",
        "        method_to_perfs=\n",
        "          dataset_results['metricname_to_abstfrac_to_abstnadapt_to_perf']\n",
        "              ['tpratfpr_0.01'][abstfrac],\n",
        "        method_names=methodnames,\n",
        "        max_ustat=nsamples*(nsamples+1)/2 )\n",
        "    tied_top_methods, tied_worst_methods =(\n",
        "        get_tied_top_and_worst_methods(\n",
        "            ustats_mat,\n",
        "            methodnames,\n",
        "            #0.05 threshold for one-sided test when N=30 is 159,\n",
        "            #0.025 threshold is 137\n",
        "            #0.005 threshold is 109\n",
        "            #from https://www.oreilly.com/library/view/nonparametric-statistics-a/9781118840429/bapp02.xhtml\n",
        "            threshold=137\n",
        "        ))\n",
        "    tied_top_methods = [methodnames[x] for x in tied_top_methods]\n",
        "    print(\"bestmethods\",datasetname,'tpratfpr_0.01', abstfrac, tied_top_methods)\n",
        "    datasetname_to_abstfrac_to_bestmethods[datasetname][abstfrac] =\\\n",
        "      set(tied_top_methods)\n",
        "    \n",
        "    \n",
        "thetable = \"\"\"\n",
        "\\\\begin{table*}[!h]\n",
        "\\\\tiny\n",
        "\\\\begin{center}\n",
        "\\\\begin{tabular}{ | c c | c c c | c c c | }\n",
        "\\\\hline\n",
        "\\\\multicolumn{2}{| c |}{ } & \\\\multicolumn{3}{ c |}{IMDB Sensitivity @ 99\\\\% Specificity} & \\\\multicolumn{3}{c | }{Kaggle Cat v Dog Sensitivity @ 99\\\\% Specificity}\\\\\\\\\n",
        "\\\\multicolumn{1}{| c}{Method} & \\\\multicolumn{1}{c |}{Adapted?} & Base & @30\\\\% Abst. & @15\\\\% Abst. & Base & @30\\\\% Abst. & @15\\\\% Abst.\\\\\\\\ \\\\hline\n",
        "\"\"\"\n",
        "\n",
        "for nicemethodname in nicemethodname_orders:\n",
        "  for adapt in ['yesadapt', 'noadapt']:\n",
        "    if adapt in nicemethodname_to_adapt_to_abstfrac_to_methodname[nicemethodname]:\n",
        "      thetable += nicemethodname\n",
        "      thetable += \" & \"+(\"Y\" if adapt=='yesadapt' else 'N')\n",
        "      for datasetname,dataset_results in [\n",
        "          ('imdb', imdb_abstention_results),\n",
        "          ('catdog', catdog_abstention_results)]:\n",
        "        metricname_to_adaptname_to_baselineperfs =\\\n",
        "          dataset_results['metricname_to_adaptname_to_baselineperfs']\n",
        "        metricname_to_abstfrac_to_abstnadapt_to_perf =\\\n",
        "          dataset_results['metricname_to_abstfrac_to_abstnadapt_to_perf']\n",
        "        baseperfs = metricname_to_adaptname_to_baselineperfs['tpratfpr_0.01'][\n",
        "                     ('EM' if adapt=='yesadapt' else 'None')]\n",
        "        thetable += (\" & \"+str(np.round(np.mean(baseperfs),4))\n",
        "                     +\"$\\\\pm$\"+str(np.round(stdderr(baseperfs),4)))\n",
        "        for abstfrac in ['0.3', '0.15']:\n",
        "          methodname =\\\n",
        "           nicemethodname_to_adapt_to_abstfrac_to_methodname[\n",
        "            nicemethodname][adapt][abstfrac]\n",
        "          isbest = (methodname in\n",
        "            datasetname_to_abstfrac_to_bestmethods[datasetname][abstfrac])\n",
        "          methodperfs = metricname_to_abstfrac_to_abstnadapt_to_perf[\n",
        "            'tpratfpr_0.01'][abstfrac][methodname]\n",
        "          thetable += \" & \"\n",
        "          if (isbest):\n",
        "            thetable += \"\\\\textbf{\"\n",
        "          thetable += (str(np.round(np.mean(methodperfs),4))\n",
        "                       +\"$\\pm$\"+str(np.round(stdderr(methodperfs),4)))\n",
        "          if (isbest):\n",
        "            thetable += \"}\"\n",
        "      thetable += \"\\\\\\\\ \\\\hline\\n\"\n",
        "      if (nicemethodname==\"JS Div. (Ours)\" and adapt=='noadapt'):\n",
        "          thetable += \"\\\\hline\\n\"\n",
        "\n",
        "thetable += \"\"\"\\\\end{tabular}\n",
        "\\\\end{center}\n",
        "\\\\caption{\\\\textbf{}. }\n",
        "\\\\label{tab:imdb_and_catdog}\n",
        "\\\\end{table*}\n",
        "\"\"\"\n",
        "print(\"\\n\\n\"+thetable)"
      ],
      "execution_count": 4,
      "outputs": [
        {
          "output_type": "stream",
          "text": [
            "bestmethods imdb tpratfpr_0.01 0.15 ['mcwindowdelta_tpratfpr_15pc:EM']\n",
            "bestmethods imdb tpratfpr_0.01 0.3 ['mcwindowdelta_tpratfpr_30pc:EM']\n",
            "bestmethods catdog tpratfpr_0.01 0.15 ['mcwindowdelta_tpratfpr_15pc:EM']\n",
            "bestmethods catdog tpratfpr_0.01 0.3 ['mcwindowdelta_tpratfpr_30pc:EM', 'fumera_tpratfpr_30pc:None']\n",
            "\n",
            "\n",
            "\n",
            "\\begin{table*}[!h]\n",
            "\\tiny\n",
            "\\begin{center}\n",
            "\\begin{tabular}{ | c c | c c c | c c c | }\n",
            "\\hline\n",
            "\\multicolumn{2}{| c |}{ } & \\multicolumn{3}{ c |}{IMDB Sensitivity @ 99\\% Specificity} & \\multicolumn{3}{c | }{Kaggle Cat v Dog Sensitivity @ 99\\% Specificity}\\\\\n",
            "\\multicolumn{1}{| c}{Method} & \\multicolumn{1}{c |}{Adapted?} & Base & @30\\% Abst. & @15\\% Abst. & Base & @30\\% Abst. & @15\\% Abst.\\\\ \\hline\n",
            "Est $\\Delta$Metric (Ours) & Y & 0.3571$\\pm$0.004 & \\textbf{0.7067$\\pm$0.0067} & \\textbf{0.5243$\\pm$0.0059} & 0.3318$\\pm$0.0061 & \\textbf{0.6135$\\pm$0.0114} & \\textbf{0.4598$\\pm$0.0082}\\\\ \\hline\n",
            "Est $\\Delta$Metric (Ours) & N & 0.3571$\\pm$0.004 & 0.6227$\\pm$0.0082 & 0.4959$\\pm$0.0057 & 0.3318$\\pm$0.0061 & 0.5616$\\pm$0.0102 & 0.4438$\\pm$0.0084\\\\ \\hline\n",
            "JS Div. (Ours) & Y & 0.3571$\\pm$0.004 & 0.4175$\\pm$0.0046 & 0.3884$\\pm$0.0048 & 0.3318$\\pm$0.0061 & 0.404$\\pm$0.0079 & 0.3655$\\pm$0.0064\\\\ \\hline\n",
            "JS Div. (Ours) & N & 0.3571$\\pm$0.004 & 0.3869$\\pm$0.0045 & 0.3722$\\pm$0.0043 & 0.3318$\\pm$0.0061 & 0.3687$\\pm$0.0073 & 0.3466$\\pm$0.0065\\\\ \\hline\n",
            "\\hline\n",
            "Dist. from 0.5 & Y & 0.3571$\\pm$0.004 & 0.5552$\\pm$0.0071 & 0.4317$\\pm$0.0052 & 0.3318$\\pm$0.0061 & 0.5226$\\pm$0.01 & 0.4122$\\pm$0.0078\\\\ \\hline\n",
            "Dist. from 0.5 & N & 0.3571$\\pm$0.004 & 0.4428$\\pm$0.0052 & 0.3909$\\pm$0.0048 & 0.3318$\\pm$0.0061 & 0.4134$\\pm$0.0079 & 0.3665$\\pm$0.0064\\\\ \\hline\n",
            "Fumera et al. & Y & 0.3571$\\pm$0.004 & 0.5869$\\pm$0.008 & 0.493$\\pm$0.0059 & 0.3318$\\pm$0.0061 & 0.529$\\pm$0.0099 & 0.4453$\\pm$0.0084\\\\ \\hline\n",
            "Fumera et al. & N & 0.3571$\\pm$0.004 & 0.6976$\\pm$0.0079 & 0.441$\\pm$0.0054 & 0.3318$\\pm$0.0061 & \\textbf{0.6154$\\pm$0.0103} & 0.4017$\\pm$0.0078\\\\ \\hline\n",
            "Test-time Dropout & Y & 0.3571$\\pm$0.004 & 0.5751$\\pm$0.008 & 0.4407$\\pm$0.0051 & 0.3318$\\pm$0.0061 & 0.4522$\\pm$0.0137 & 0.3748$\\pm$0.0083\\\\ \\hline\n",
            "Test-time Dropout & N & 0.3571$\\pm$0.004 & 0.4625$\\pm$0.0055 & 0.3994$\\pm$0.0042 & 0.3318$\\pm$0.0061 & 0.3747$\\pm$0.0099 & 0.3492$\\pm$0.0074\\\\ \\hline\n",
            "\\end{tabular}\n",
            "\\end{center}\n",
            "\\caption{\\textbf{}. }\n",
            "\\label{tab:imdb_and_catdog}\n",
            "\\end{table*}\n",
            "\n"
          ],
          "name": "stdout"
        }
      ]
    },
    {
      "cell_type": "code",
      "metadata": {
        "id": "kFWfZrW0lBTc",
        "colab_type": "code",
        "colab": {}
      },
      "source": [
        ""
      ],
      "execution_count": 0,
      "outputs": []
    }
  ]
}